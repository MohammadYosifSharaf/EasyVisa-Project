{
  "cells": [
    {
      "cell_type": "markdown",
      "id": "AT5OogJVFbwu",
      "metadata": {
        "id": "AT5OogJVFbwu"
      },
      "source": [
        "# EasyVisa Project\n",
        "* By : Mohammad Sharaf\n",
        "## Context:\n",
        "\n",
        "Business communities in the United States are facing high demand for human resources, but one of the constant challenges is identifying and attracting the right talent, which is perhaps the most important element in remaining competitive. Companies in the United States look for hard-working, talented, and qualified individuals both locally as well as abroad.\n",
        "\n",
        "The Immigration and Nationality Act (INA) of the US permits foreign workers to come to the United States to work on either a temporary or permanent basis. The act also protects US workers against adverse impacts on their wages or working conditions by ensuring US employers' compliance with statutory requirements when they hire foreign workers to fill workforce shortages. The immigration programs are administered by the Office of Foreign Labor Certification (OFLC).\n",
        "\n",
        "OFLC processes job certification applications for employers seeking to bring foreign workers into the United States and grants certifications in those cases where employers can demonstrate that there are not sufficient US workers available to perform the work at wages that meet or exceed the wage paid for the occupation in the area of intended employment.\n",
        "\n",
        "## Objective:\n",
        "\n",
        "In FY 2016, the OFLC processed 775,979 employer applications for 1,699,957 positions for temporary and permanent labor certifications. This was a nine percent increase in the overall number of processed applications from the previous year. The process of reviewing every case is becoming a tedious task as the number of applicants is increasing every year.\n",
        "\n",
        "The increasing number of applicants every year calls for a Machine Learning based solution that can help in shortlisting the candidates having higher chances of VISA approval. The objective is to analyze the data provided and, with the help of a classification model:\n",
        "\n",
        "* Facilitate the process of visa approvals.\n",
        "* Recommend a suitable profile for the applicants for whom the visa should be certified or denied based on the drivers that significantly influence the case status.\n",
        "\n",
        "\n",
        "## Data Description\n",
        "\n",
        "The data contains the different attributes of the employee and the employer. The detailed data dictionary is given below.\n",
        "\n",
        "* case_id: ID of each visa application\n",
        "* continent: Information of continent of the employee\n",
        "* education_of_employee: Information of education of the employee\n",
        "* has_job_experience: Does the employee has any job experience? Y= Yes; N = No\n",
        "* requires_job_training: Does the employee require any job training? Y = Yes; N = No\n",
        "* no_of_employees: Number of employees in the employer's company\n",
        "* yr_of_estab: Year in which the employer's company was established\n",
        "* region_of_employment: Information of foreign worker's intended region of employment in the US.\n",
        "* prevailing_wage:  Average wage paid to similarly employed workers in a specific occupation in the area of intended employment. The purpose of the prevailing wage is to ensure that the foreign worker is not underpaid compared to other workers offering the same or similar service in the same area of employment.\n",
        "* unit_of_wage: Unit of prevailing wage. Values include Hourly, Weekly, Monthly, and Yearly.\n",
        "* full_time_position: Is the position of work full-time? Y = Full Time Position; N = Part Time Position\n",
        "* case_status:  Flag indicating if the Visa was certified or denied"
      ]
    },
    {
      "cell_type": "markdown",
      "id": "dirty-island",
      "metadata": {
        "id": "dirty-island"
      },
      "source": [
        "## Importing necessary libraries and data"
      ]
    },
    {
      "cell_type": "code",
      "execution_count": null,
      "id": "f7ab7d7b",
      "metadata": {
        "id": "f7ab7d7b"
      },
      "outputs": [],
      "source": [
        "#conda install -c conda-forge xgboost"
      ]
    },
    {
      "cell_type": "code",
      "execution_count": null,
      "id": "statewide-still",
      "metadata": {
        "id": "statewide-still"
      },
      "outputs": [],
      "source": [
        "import warnings\n",
        "warnings.filterwarnings(\"ignore\")\n",
        "\n",
        "import numpy as np\n",
        "import pandas as pd\n",
        "\n",
        "import seaborn as sns\n",
        "import matplotlib.pyplot as plt\n",
        "\n",
        "import scipy.stats as stats\n",
        "\n",
        "from sklearn.model_selection import train_test_split\n",
        "from sklearn.tree import DecisionTreeClassifier\n",
        "from sklearn import metrics\n",
        "from sklearn.metrics import confusion_matrix, classification_report, accuracy_score, precision_score, recall_score, f1_score, roc_auc_score\n",
        "from sklearn.model_selection import GridSearchCV\n",
        "\n",
        "from sklearn.ensemble import BaggingClassifier,RandomForestClassifier, GradientBoostingClassifier, AdaBoostClassifier, StackingClassifier\n",
        "from sklearn.model_selection import GridSearchCV\n",
        "from xgboost import XGBClassifier"
      ]
    },
    {
      "cell_type": "code",
      "execution_count": null,
      "id": "e64a0ab7",
      "metadata": {
        "id": "e64a0ab7"
      },
      "outputs": [],
      "source": [
        "# loading the dataset from a shared link\n",
        "url ='https://drive.google.com/file/d/19nCMC3uGoHcLv1xJvrkIHQzzya8SrWjp/view?usp=share_link';\n",
        "file_id=url.split('/')[-2];\n",
        "dwn_url='https://drive.google.com/uc?id=' + file_id;\n",
        "data = pd.read_csv(dwn_url);"
      ]
    },
    {
      "cell_type": "markdown",
      "id": "b58f4c4d",
      "metadata": {
        "id": "b58f4c4d"
      },
      "source": [
        "## Data Overview\n",
        "\n",
        "- Observations\n",
        "- Sanity checks"
      ]
    },
    {
      "cell_type": "code",
      "execution_count": null,
      "id": "bdb6201f",
      "metadata": {
        "colab": {
          "base_uri": "https://localhost:8080/",
          "height": 270
        },
        "id": "bdb6201f",
        "outputId": "7bd64021-0faf-45e2-9334-d416d625a810"
      },
      "outputs": [
        {
          "output_type": "execute_result",
          "data": {
            "text/plain": [
              "  case_id continent education_of_employee has_job_experience  \\\n",
              "0  EZYV01      Asia           High School                  N   \n",
              "1  EZYV02      Asia              Master's                  Y   \n",
              "2  EZYV03      Asia            Bachelor's                  N   \n",
              "3  EZYV04      Asia            Bachelor's                  N   \n",
              "4  EZYV05    Africa              Master's                  Y   \n",
              "\n",
              "  requires_job_training  no_of_employees  yr_of_estab region_of_employment  \\\n",
              "0                     N            14513         2007                 West   \n",
              "1                     N             2412         2002            Northeast   \n",
              "2                     Y            44444         2008                 West   \n",
              "3                     N               98         1897                 West   \n",
              "4                     N             1082         2005                South   \n",
              "\n",
              "   prevailing_wage unit_of_wage full_time_position case_status  \n",
              "0         592.2029         Hour                  Y      Denied  \n",
              "1       83425.6500         Year                  Y   Certified  \n",
              "2      122996.8600         Year                  Y      Denied  \n",
              "3       83434.0300         Year                  Y      Denied  \n",
              "4      149907.3900         Year                  Y   Certified  "
            ],
            "text/html": [
              "\n",
              "  <div id=\"df-0c1da838-993e-49e6-9261-ee5c355714f6\">\n",
              "    <div class=\"colab-df-container\">\n",
              "      <div>\n",
              "<style scoped>\n",
              "    .dataframe tbody tr th:only-of-type {\n",
              "        vertical-align: middle;\n",
              "    }\n",
              "\n",
              "    .dataframe tbody tr th {\n",
              "        vertical-align: top;\n",
              "    }\n",
              "\n",
              "    .dataframe thead th {\n",
              "        text-align: right;\n",
              "    }\n",
              "</style>\n",
              "<table border=\"1\" class=\"dataframe\">\n",
              "  <thead>\n",
              "    <tr style=\"text-align: right;\">\n",
              "      <th></th>\n",
              "      <th>case_id</th>\n",
              "      <th>continent</th>\n",
              "      <th>education_of_employee</th>\n",
              "      <th>has_job_experience</th>\n",
              "      <th>requires_job_training</th>\n",
              "      <th>no_of_employees</th>\n",
              "      <th>yr_of_estab</th>\n",
              "      <th>region_of_employment</th>\n",
              "      <th>prevailing_wage</th>\n",
              "      <th>unit_of_wage</th>\n",
              "      <th>full_time_position</th>\n",
              "      <th>case_status</th>\n",
              "    </tr>\n",
              "  </thead>\n",
              "  <tbody>\n",
              "    <tr>\n",
              "      <th>0</th>\n",
              "      <td>EZYV01</td>\n",
              "      <td>Asia</td>\n",
              "      <td>High School</td>\n",
              "      <td>N</td>\n",
              "      <td>N</td>\n",
              "      <td>14513</td>\n",
              "      <td>2007</td>\n",
              "      <td>West</td>\n",
              "      <td>592.2029</td>\n",
              "      <td>Hour</td>\n",
              "      <td>Y</td>\n",
              "      <td>Denied</td>\n",
              "    </tr>\n",
              "    <tr>\n",
              "      <th>1</th>\n",
              "      <td>EZYV02</td>\n",
              "      <td>Asia</td>\n",
              "      <td>Master's</td>\n",
              "      <td>Y</td>\n",
              "      <td>N</td>\n",
              "      <td>2412</td>\n",
              "      <td>2002</td>\n",
              "      <td>Northeast</td>\n",
              "      <td>83425.6500</td>\n",
              "      <td>Year</td>\n",
              "      <td>Y</td>\n",
              "      <td>Certified</td>\n",
              "    </tr>\n",
              "    <tr>\n",
              "      <th>2</th>\n",
              "      <td>EZYV03</td>\n",
              "      <td>Asia</td>\n",
              "      <td>Bachelor's</td>\n",
              "      <td>N</td>\n",
              "      <td>Y</td>\n",
              "      <td>44444</td>\n",
              "      <td>2008</td>\n",
              "      <td>West</td>\n",
              "      <td>122996.8600</td>\n",
              "      <td>Year</td>\n",
              "      <td>Y</td>\n",
              "      <td>Denied</td>\n",
              "    </tr>\n",
              "    <tr>\n",
              "      <th>3</th>\n",
              "      <td>EZYV04</td>\n",
              "      <td>Asia</td>\n",
              "      <td>Bachelor's</td>\n",
              "      <td>N</td>\n",
              "      <td>N</td>\n",
              "      <td>98</td>\n",
              "      <td>1897</td>\n",
              "      <td>West</td>\n",
              "      <td>83434.0300</td>\n",
              "      <td>Year</td>\n",
              "      <td>Y</td>\n",
              "      <td>Denied</td>\n",
              "    </tr>\n",
              "    <tr>\n",
              "      <th>4</th>\n",
              "      <td>EZYV05</td>\n",
              "      <td>Africa</td>\n",
              "      <td>Master's</td>\n",
              "      <td>Y</td>\n",
              "      <td>N</td>\n",
              "      <td>1082</td>\n",
              "      <td>2005</td>\n",
              "      <td>South</td>\n",
              "      <td>149907.3900</td>\n",
              "      <td>Year</td>\n",
              "      <td>Y</td>\n",
              "      <td>Certified</td>\n",
              "    </tr>\n",
              "  </tbody>\n",
              "</table>\n",
              "</div>\n",
              "      <button class=\"colab-df-convert\" onclick=\"convertToInteractive('df-0c1da838-993e-49e6-9261-ee5c355714f6')\"\n",
              "              title=\"Convert this dataframe to an interactive table.\"\n",
              "              style=\"display:none;\">\n",
              "        \n",
              "  <svg xmlns=\"http://www.w3.org/2000/svg\" height=\"24px\"viewBox=\"0 0 24 24\"\n",
              "       width=\"24px\">\n",
              "    <path d=\"M0 0h24v24H0V0z\" fill=\"none\"/>\n",
              "    <path d=\"M18.56 5.44l.94 2.06.94-2.06 2.06-.94-2.06-.94-.94-2.06-.94 2.06-2.06.94zm-11 1L8.5 8.5l.94-2.06 2.06-.94-2.06-.94L8.5 2.5l-.94 2.06-2.06.94zm10 10l.94 2.06.94-2.06 2.06-.94-2.06-.94-.94-2.06-.94 2.06-2.06.94z\"/><path d=\"M17.41 7.96l-1.37-1.37c-.4-.4-.92-.59-1.43-.59-.52 0-1.04.2-1.43.59L10.3 9.45l-7.72 7.72c-.78.78-.78 2.05 0 2.83L4 21.41c.39.39.9.59 1.41.59.51 0 1.02-.2 1.41-.59l7.78-7.78 2.81-2.81c.8-.78.8-2.07 0-2.86zM5.41 20L4 18.59l7.72-7.72 1.47 1.35L5.41 20z\"/>\n",
              "  </svg>\n",
              "      </button>\n",
              "      \n",
              "  <style>\n",
              "    .colab-df-container {\n",
              "      display:flex;\n",
              "      flex-wrap:wrap;\n",
              "      gap: 12px;\n",
              "    }\n",
              "\n",
              "    .colab-df-convert {\n",
              "      background-color: #E8F0FE;\n",
              "      border: none;\n",
              "      border-radius: 50%;\n",
              "      cursor: pointer;\n",
              "      display: none;\n",
              "      fill: #1967D2;\n",
              "      height: 32px;\n",
              "      padding: 0 0 0 0;\n",
              "      width: 32px;\n",
              "    }\n",
              "\n",
              "    .colab-df-convert:hover {\n",
              "      background-color: #E2EBFA;\n",
              "      box-shadow: 0px 1px 2px rgba(60, 64, 67, 0.3), 0px 1px 3px 1px rgba(60, 64, 67, 0.15);\n",
              "      fill: #174EA6;\n",
              "    }\n",
              "\n",
              "    [theme=dark] .colab-df-convert {\n",
              "      background-color: #3B4455;\n",
              "      fill: #D2E3FC;\n",
              "    }\n",
              "\n",
              "    [theme=dark] .colab-df-convert:hover {\n",
              "      background-color: #434B5C;\n",
              "      box-shadow: 0px 1px 3px 1px rgba(0, 0, 0, 0.15);\n",
              "      filter: drop-shadow(0px 1px 2px rgba(0, 0, 0, 0.3));\n",
              "      fill: #FFFFFF;\n",
              "    }\n",
              "  </style>\n",
              "\n",
              "      <script>\n",
              "        const buttonEl =\n",
              "          document.querySelector('#df-0c1da838-993e-49e6-9261-ee5c355714f6 button.colab-df-convert');\n",
              "        buttonEl.style.display =\n",
              "          google.colab.kernel.accessAllowed ? 'block' : 'none';\n",
              "\n",
              "        async function convertToInteractive(key) {\n",
              "          const element = document.querySelector('#df-0c1da838-993e-49e6-9261-ee5c355714f6');\n",
              "          const dataTable =\n",
              "            await google.colab.kernel.invokeFunction('convertToInteractive',\n",
              "                                                     [key], {});\n",
              "          if (!dataTable) return;\n",
              "\n",
              "          const docLinkHtml = 'Like what you see? Visit the ' +\n",
              "            '<a target=\"_blank\" href=https://colab.research.google.com/notebooks/data_table.ipynb>data table notebook</a>'\n",
              "            + ' to learn more about interactive tables.';\n",
              "          element.innerHTML = '';\n",
              "          dataTable['output_type'] = 'display_data';\n",
              "          await google.colab.output.renderOutput(dataTable, element);\n",
              "          const docLink = document.createElement('div');\n",
              "          docLink.innerHTML = docLinkHtml;\n",
              "          element.appendChild(docLink);\n",
              "        }\n",
              "      </script>\n",
              "    </div>\n",
              "  </div>\n",
              "  "
            ]
          },
          "metadata": {},
          "execution_count": 5
        }
      ],
      "source": [
        "#View the 1st 5 rows of dataset\n",
        "data.head()"
      ]
    },
    {
      "cell_type": "code",
      "execution_count": null,
      "id": "c6f157a8",
      "metadata": {
        "colab": {
          "base_uri": "https://localhost:8080/"
        },
        "id": "c6f157a8",
        "outputId": "6b6dc98c-74a9-4262-8d0c-fe370f5a9a73"
      },
      "outputs": [
        {
          "output_type": "stream",
          "name": "stdout",
          "text": [
            "<class 'pandas.core.frame.DataFrame'>\n",
            "RangeIndex: 25480 entries, 0 to 25479\n",
            "Data columns (total 12 columns):\n",
            " #   Column                 Non-Null Count  Dtype  \n",
            "---  ------                 --------------  -----  \n",
            " 0   case_id                25480 non-null  object \n",
            " 1   continent              25480 non-null  object \n",
            " 2   education_of_employee  25480 non-null  object \n",
            " 3   has_job_experience     25480 non-null  object \n",
            " 4   requires_job_training  25480 non-null  object \n",
            " 5   no_of_employees        25480 non-null  int64  \n",
            " 6   yr_of_estab            25480 non-null  int64  \n",
            " 7   region_of_employment   25480 non-null  object \n",
            " 8   prevailing_wage        25480 non-null  float64\n",
            " 9   unit_of_wage           25480 non-null  object \n",
            " 10  full_time_position     25480 non-null  object \n",
            " 11  case_status            25480 non-null  object \n",
            "dtypes: float64(1), int64(2), object(9)\n",
            "memory usage: 2.3+ MB\n"
          ]
        }
      ],
      "source": [
        "#Check data type and not null values for each column\n",
        "data.info()"
      ]
    },
    {
      "cell_type": "code",
      "execution_count": null,
      "id": "4e6e9bb4",
      "metadata": {
        "colab": {
          "base_uri": "https://localhost:8080/"
        },
        "id": "4e6e9bb4",
        "outputId": "e4e08b48-6366-4d61-9085-e11703edbe7c"
      },
      "outputs": [
        {
          "output_type": "execute_result",
          "data": {
            "text/plain": [
              "(25480, 12)"
            ]
          },
          "metadata": {},
          "execution_count": 7
        }
      ],
      "source": [
        "data.shape"
      ]
    },
    {
      "cell_type": "markdown",
      "id": "a4fd44f3",
      "metadata": {
        "id": "a4fd44f3"
      },
      "source": [
        "- There are 25480 rows and 12 columns in the data set\n",
        "- There are no missing values in the data set. This can be verified by isna() method\n",
        "- Number of employees, years of establishment & prevailing wages are of type integer or float. All other attributes are of object type and will need to be converted to the right datatype"
      ]
    },
    {
      "cell_type": "code",
      "execution_count": null,
      "id": "fe87ac57",
      "metadata": {
        "colab": {
          "base_uri": "https://localhost:8080/"
        },
        "id": "fe87ac57",
        "outputId": "a01e9a29-0133-41a4-e8bb-f6bd7df0ed4e"
      },
      "outputs": [
        {
          "output_type": "execute_result",
          "data": {
            "text/plain": [
              "case_id                  0\n",
              "continent                0\n",
              "education_of_employee    0\n",
              "has_job_experience       0\n",
              "requires_job_training    0\n",
              "no_of_employees          0\n",
              "yr_of_estab              0\n",
              "region_of_employment     0\n",
              "prevailing_wage          0\n",
              "unit_of_wage             0\n",
              "full_time_position       0\n",
              "case_status              0\n",
              "dtype: int64"
            ]
          },
          "metadata": {},
          "execution_count": 8
        }
      ],
      "source": [
        "data.isna().sum()"
      ]
    },
    {
      "cell_type": "markdown",
      "id": "2d6e049c",
      "metadata": {
        "id": "2d6e049c"
      },
      "source": [
        " - There are no missing values in the dataset"
      ]
    },
    {
      "cell_type": "code",
      "execution_count": null,
      "id": "ca25a463",
      "metadata": {
        "colab": {
          "base_uri": "https://localhost:8080/"
        },
        "id": "ca25a463",
        "outputId": "8a5a5e0a-4473-4420-9a26-80297fb11858"
      },
      "outputs": [
        {
          "output_type": "execute_result",
          "data": {
            "text/plain": [
              "Index(['case_id', 'continent', 'education_of_employee', 'has_job_experience',\n",
              "       'requires_job_training', 'region_of_employment', 'unit_of_wage',\n",
              "       'full_time_position', 'case_status'],\n",
              "      dtype='object')"
            ]
          },
          "metadata": {},
          "execution_count": 9
        }
      ],
      "source": [
        "cols = data.select_dtypes(['object'])\n",
        "cols.columns"
      ]
    },
    {
      "cell_type": "code",
      "execution_count": null,
      "id": "e0fa6d67",
      "metadata": {
        "id": "e0fa6d67"
      },
      "outputs": [],
      "source": [
        "for i in cols.columns:\n",
        "    data[i] = data[i].astype('category')"
      ]
    },
    {
      "cell_type": "code",
      "execution_count": null,
      "id": "1db35bad",
      "metadata": {
        "colab": {
          "base_uri": "https://localhost:8080/"
        },
        "id": "1db35bad",
        "outputId": "118018b0-7423-4988-db3b-30ac20239bd7"
      },
      "outputs": [
        {
          "output_type": "stream",
          "name": "stdout",
          "text": [
            "<class 'pandas.core.frame.DataFrame'>\n",
            "RangeIndex: 25480 entries, 0 to 25479\n",
            "Data columns (total 12 columns):\n",
            " #   Column                 Non-Null Count  Dtype   \n",
            "---  ------                 --------------  -----   \n",
            " 0   case_id                25480 non-null  category\n",
            " 1   continent              25480 non-null  category\n",
            " 2   education_of_employee  25480 non-null  category\n",
            " 3   has_job_experience     25480 non-null  category\n",
            " 4   requires_job_training  25480 non-null  category\n",
            " 5   no_of_employees        25480 non-null  int64   \n",
            " 6   yr_of_estab            25480 non-null  int64   \n",
            " 7   region_of_employment   25480 non-null  category\n",
            " 8   prevailing_wage        25480 non-null  float64 \n",
            " 9   unit_of_wage           25480 non-null  category\n",
            " 10  full_time_position     25480 non-null  category\n",
            " 11  case_status            25480 non-null  category\n",
            "dtypes: category(9), float64(1), int64(2)\n",
            "memory usage: 2.0 MB\n"
          ]
        }
      ],
      "source": [
        "data.info()"
      ]
    },
    {
      "cell_type": "markdown",
      "id": "624a9cc0",
      "metadata": {
        "id": "624a9cc0"
      },
      "source": [
        "- All datatypes of object type have been coverted to category. The memory usage has also decreased from 2.3+MB to 2MB"
      ]
    },
    {
      "cell_type": "markdown",
      "id": "c587afbc",
      "metadata": {
        "id": "c587afbc"
      },
      "source": [
        "### Summary of dataset"
      ]
    },
    {
      "cell_type": "code",
      "execution_count": null,
      "id": "f1bf0b72",
      "metadata": {
        "colab": {
          "base_uri": "https://localhost:8080/",
          "height": 143
        },
        "id": "f1bf0b72",
        "outputId": "5c728a5a-0324-43f6-ec34-beaca0126aa3"
      },
      "outputs": [
        {
          "output_type": "execute_result",
          "data": {
            "text/plain": [
              "                   count          mean           std        min       25%  \\\n",
              "no_of_employees  25480.0   5667.043210  22877.928848   -26.0000   1022.00   \n",
              "yr_of_estab      25480.0   1979.409929     42.366929  1800.0000   1976.00   \n",
              "prevailing_wage  25480.0  74455.814592  52815.942327     2.1367  34015.48   \n",
              "\n",
              "                      50%          75%        max  \n",
              "no_of_employees   2109.00    3504.0000  602069.00  \n",
              "yr_of_estab       1997.00    2005.0000    2016.00  \n",
              "prevailing_wage  70308.21  107735.5125  319210.27  "
            ],
            "text/html": [
              "\n",
              "  <div id=\"df-b97a2aeb-1a0a-4e22-9027-bd18cd0f0382\">\n",
              "    <div class=\"colab-df-container\">\n",
              "      <div>\n",
              "<style scoped>\n",
              "    .dataframe tbody tr th:only-of-type {\n",
              "        vertical-align: middle;\n",
              "    }\n",
              "\n",
              "    .dataframe tbody tr th {\n",
              "        vertical-align: top;\n",
              "    }\n",
              "\n",
              "    .dataframe thead th {\n",
              "        text-align: right;\n",
              "    }\n",
              "</style>\n",
              "<table border=\"1\" class=\"dataframe\">\n",
              "  <thead>\n",
              "    <tr style=\"text-align: right;\">\n",
              "      <th></th>\n",
              "      <th>count</th>\n",
              "      <th>mean</th>\n",
              "      <th>std</th>\n",
              "      <th>min</th>\n",
              "      <th>25%</th>\n",
              "      <th>50%</th>\n",
              "      <th>75%</th>\n",
              "      <th>max</th>\n",
              "    </tr>\n",
              "  </thead>\n",
              "  <tbody>\n",
              "    <tr>\n",
              "      <th>no_of_employees</th>\n",
              "      <td>25480.0</td>\n",
              "      <td>5667.043210</td>\n",
              "      <td>22877.928848</td>\n",
              "      <td>-26.0000</td>\n",
              "      <td>1022.00</td>\n",
              "      <td>2109.00</td>\n",
              "      <td>3504.0000</td>\n",
              "      <td>602069.00</td>\n",
              "    </tr>\n",
              "    <tr>\n",
              "      <th>yr_of_estab</th>\n",
              "      <td>25480.0</td>\n",
              "      <td>1979.409929</td>\n",
              "      <td>42.366929</td>\n",
              "      <td>1800.0000</td>\n",
              "      <td>1976.00</td>\n",
              "      <td>1997.00</td>\n",
              "      <td>2005.0000</td>\n",
              "      <td>2016.00</td>\n",
              "    </tr>\n",
              "    <tr>\n",
              "      <th>prevailing_wage</th>\n",
              "      <td>25480.0</td>\n",
              "      <td>74455.814592</td>\n",
              "      <td>52815.942327</td>\n",
              "      <td>2.1367</td>\n",
              "      <td>34015.48</td>\n",
              "      <td>70308.21</td>\n",
              "      <td>107735.5125</td>\n",
              "      <td>319210.27</td>\n",
              "    </tr>\n",
              "  </tbody>\n",
              "</table>\n",
              "</div>\n",
              "      <button class=\"colab-df-convert\" onclick=\"convertToInteractive('df-b97a2aeb-1a0a-4e22-9027-bd18cd0f0382')\"\n",
              "              title=\"Convert this dataframe to an interactive table.\"\n",
              "              style=\"display:none;\">\n",
              "        \n",
              "  <svg xmlns=\"http://www.w3.org/2000/svg\" height=\"24px\"viewBox=\"0 0 24 24\"\n",
              "       width=\"24px\">\n",
              "    <path d=\"M0 0h24v24H0V0z\" fill=\"none\"/>\n",
              "    <path d=\"M18.56 5.44l.94 2.06.94-2.06 2.06-.94-2.06-.94-.94-2.06-.94 2.06-2.06.94zm-11 1L8.5 8.5l.94-2.06 2.06-.94-2.06-.94L8.5 2.5l-.94 2.06-2.06.94zm10 10l.94 2.06.94-2.06 2.06-.94-2.06-.94-.94-2.06-.94 2.06-2.06.94z\"/><path d=\"M17.41 7.96l-1.37-1.37c-.4-.4-.92-.59-1.43-.59-.52 0-1.04.2-1.43.59L10.3 9.45l-7.72 7.72c-.78.78-.78 2.05 0 2.83L4 21.41c.39.39.9.59 1.41.59.51 0 1.02-.2 1.41-.59l7.78-7.78 2.81-2.81c.8-.78.8-2.07 0-2.86zM5.41 20L4 18.59l7.72-7.72 1.47 1.35L5.41 20z\"/>\n",
              "  </svg>\n",
              "      </button>\n",
              "      \n",
              "  <style>\n",
              "    .colab-df-container {\n",
              "      display:flex;\n",
              "      flex-wrap:wrap;\n",
              "      gap: 12px;\n",
              "    }\n",
              "\n",
              "    .colab-df-convert {\n",
              "      background-color: #E8F0FE;\n",
              "      border: none;\n",
              "      border-radius: 50%;\n",
              "      cursor: pointer;\n",
              "      display: none;\n",
              "      fill: #1967D2;\n",
              "      height: 32px;\n",
              "      padding: 0 0 0 0;\n",
              "      width: 32px;\n",
              "    }\n",
              "\n",
              "    .colab-df-convert:hover {\n",
              "      background-color: #E2EBFA;\n",
              "      box-shadow: 0px 1px 2px rgba(60, 64, 67, 0.3), 0px 1px 3px 1px rgba(60, 64, 67, 0.15);\n",
              "      fill: #174EA6;\n",
              "    }\n",
              "\n",
              "    [theme=dark] .colab-df-convert {\n",
              "      background-color: #3B4455;\n",
              "      fill: #D2E3FC;\n",
              "    }\n",
              "\n",
              "    [theme=dark] .colab-df-convert:hover {\n",
              "      background-color: #434B5C;\n",
              "      box-shadow: 0px 1px 3px 1px rgba(0, 0, 0, 0.15);\n",
              "      filter: drop-shadow(0px 1px 2px rgba(0, 0, 0, 0.3));\n",
              "      fill: #FFFFFF;\n",
              "    }\n",
              "  </style>\n",
              "\n",
              "      <script>\n",
              "        const buttonEl =\n",
              "          document.querySelector('#df-b97a2aeb-1a0a-4e22-9027-bd18cd0f0382 button.colab-df-convert');\n",
              "        buttonEl.style.display =\n",
              "          google.colab.kernel.accessAllowed ? 'block' : 'none';\n",
              "\n",
              "        async function convertToInteractive(key) {\n",
              "          const element = document.querySelector('#df-b97a2aeb-1a0a-4e22-9027-bd18cd0f0382');\n",
              "          const dataTable =\n",
              "            await google.colab.kernel.invokeFunction('convertToInteractive',\n",
              "                                                     [key], {});\n",
              "          if (!dataTable) return;\n",
              "\n",
              "          const docLinkHtml = 'Like what you see? Visit the ' +\n",
              "            '<a target=\"_blank\" href=https://colab.research.google.com/notebooks/data_table.ipynb>data table notebook</a>'\n",
              "            + ' to learn more about interactive tables.';\n",
              "          element.innerHTML = '';\n",
              "          dataTable['output_type'] = 'display_data';\n",
              "          await google.colab.output.renderOutput(dataTable, element);\n",
              "          const docLink = document.createElement('div');\n",
              "          docLink.innerHTML = docLinkHtml;\n",
              "          element.appendChild(docLink);\n",
              "        }\n",
              "      </script>\n",
              "    </div>\n",
              "  </div>\n",
              "  "
            ]
          },
          "metadata": {},
          "execution_count": 12
        }
      ],
      "source": [
        "data.describe().T"
      ]
    },
    {
      "cell_type": "markdown",
      "id": "10640ea6",
      "metadata": {
        "id": "10640ea6"
      },
      "source": [
        "- The average number of employees in the employer's organization are 5667 while the median number of employees in the employer's organization are 2109. This implies the attribute has a right skewed distribution with several positive outliers. The minimum number is negative which does not appear to be a valid data point\n",
        "- There are companies in the dataset with years of establishment from 1800 to 2016\n",
        "- The average prevailing wage for occupation is united states is USD 74,455 while the median (~50th percentile of wages) is USD 70,308. This indicates, slight right skewness in the data set. The minimum value of USD 2.1367 does not appear to be a valid data point. The attribute has to be studied in union with unit_of_wage to gather further insight"
      ]
    },
    {
      "cell_type": "code",
      "execution_count": null,
      "id": "abfdf8f2",
      "metadata": {
        "colab": {
          "base_uri": "https://localhost:8080/",
          "height": 332
        },
        "id": "abfdf8f2",
        "outputId": "e77d8133-9968-4cd8-b2fc-a7071911135d"
      },
      "outputs": [
        {
          "output_type": "execute_result",
          "data": {
            "text/plain": [
              "                       count unique         top   freq\n",
              "case_id                25480  25480      EZYV01      1\n",
              "continent              25480      6        Asia  16861\n",
              "education_of_employee  25480      4  Bachelor's  10234\n",
              "has_job_experience     25480      2           Y  14802\n",
              "requires_job_training  25480      2           N  22525\n",
              "region_of_employment   25480      5   Northeast   7195\n",
              "unit_of_wage           25480      4        Year  22962\n",
              "full_time_position     25480      2           Y  22773\n",
              "case_status            25480      2   Certified  17018"
            ],
            "text/html": [
              "\n",
              "  <div id=\"df-74639e80-d26e-48df-894e-a2a6d258edca\">\n",
              "    <div class=\"colab-df-container\">\n",
              "      <div>\n",
              "<style scoped>\n",
              "    .dataframe tbody tr th:only-of-type {\n",
              "        vertical-align: middle;\n",
              "    }\n",
              "\n",
              "    .dataframe tbody tr th {\n",
              "        vertical-align: top;\n",
              "    }\n",
              "\n",
              "    .dataframe thead th {\n",
              "        text-align: right;\n",
              "    }\n",
              "</style>\n",
              "<table border=\"1\" class=\"dataframe\">\n",
              "  <thead>\n",
              "    <tr style=\"text-align: right;\">\n",
              "      <th></th>\n",
              "      <th>count</th>\n",
              "      <th>unique</th>\n",
              "      <th>top</th>\n",
              "      <th>freq</th>\n",
              "    </tr>\n",
              "  </thead>\n",
              "  <tbody>\n",
              "    <tr>\n",
              "      <th>case_id</th>\n",
              "      <td>25480</td>\n",
              "      <td>25480</td>\n",
              "      <td>EZYV01</td>\n",
              "      <td>1</td>\n",
              "    </tr>\n",
              "    <tr>\n",
              "      <th>continent</th>\n",
              "      <td>25480</td>\n",
              "      <td>6</td>\n",
              "      <td>Asia</td>\n",
              "      <td>16861</td>\n",
              "    </tr>\n",
              "    <tr>\n",
              "      <th>education_of_employee</th>\n",
              "      <td>25480</td>\n",
              "      <td>4</td>\n",
              "      <td>Bachelor's</td>\n",
              "      <td>10234</td>\n",
              "    </tr>\n",
              "    <tr>\n",
              "      <th>has_job_experience</th>\n",
              "      <td>25480</td>\n",
              "      <td>2</td>\n",
              "      <td>Y</td>\n",
              "      <td>14802</td>\n",
              "    </tr>\n",
              "    <tr>\n",
              "      <th>requires_job_training</th>\n",
              "      <td>25480</td>\n",
              "      <td>2</td>\n",
              "      <td>N</td>\n",
              "      <td>22525</td>\n",
              "    </tr>\n",
              "    <tr>\n",
              "      <th>region_of_employment</th>\n",
              "      <td>25480</td>\n",
              "      <td>5</td>\n",
              "      <td>Northeast</td>\n",
              "      <td>7195</td>\n",
              "    </tr>\n",
              "    <tr>\n",
              "      <th>unit_of_wage</th>\n",
              "      <td>25480</td>\n",
              "      <td>4</td>\n",
              "      <td>Year</td>\n",
              "      <td>22962</td>\n",
              "    </tr>\n",
              "    <tr>\n",
              "      <th>full_time_position</th>\n",
              "      <td>25480</td>\n",
              "      <td>2</td>\n",
              "      <td>Y</td>\n",
              "      <td>22773</td>\n",
              "    </tr>\n",
              "    <tr>\n",
              "      <th>case_status</th>\n",
              "      <td>25480</td>\n",
              "      <td>2</td>\n",
              "      <td>Certified</td>\n",
              "      <td>17018</td>\n",
              "    </tr>\n",
              "  </tbody>\n",
              "</table>\n",
              "</div>\n",
              "      <button class=\"colab-df-convert\" onclick=\"convertToInteractive('df-74639e80-d26e-48df-894e-a2a6d258edca')\"\n",
              "              title=\"Convert this dataframe to an interactive table.\"\n",
              "              style=\"display:none;\">\n",
              "        \n",
              "  <svg xmlns=\"http://www.w3.org/2000/svg\" height=\"24px\"viewBox=\"0 0 24 24\"\n",
              "       width=\"24px\">\n",
              "    <path d=\"M0 0h24v24H0V0z\" fill=\"none\"/>\n",
              "    <path d=\"M18.56 5.44l.94 2.06.94-2.06 2.06-.94-2.06-.94-.94-2.06-.94 2.06-2.06.94zm-11 1L8.5 8.5l.94-2.06 2.06-.94-2.06-.94L8.5 2.5l-.94 2.06-2.06.94zm10 10l.94 2.06.94-2.06 2.06-.94-2.06-.94-.94-2.06-.94 2.06-2.06.94z\"/><path d=\"M17.41 7.96l-1.37-1.37c-.4-.4-.92-.59-1.43-.59-.52 0-1.04.2-1.43.59L10.3 9.45l-7.72 7.72c-.78.78-.78 2.05 0 2.83L4 21.41c.39.39.9.59 1.41.59.51 0 1.02-.2 1.41-.59l7.78-7.78 2.81-2.81c.8-.78.8-2.07 0-2.86zM5.41 20L4 18.59l7.72-7.72 1.47 1.35L5.41 20z\"/>\n",
              "  </svg>\n",
              "      </button>\n",
              "      \n",
              "  <style>\n",
              "    .colab-df-container {\n",
              "      display:flex;\n",
              "      flex-wrap:wrap;\n",
              "      gap: 12px;\n",
              "    }\n",
              "\n",
              "    .colab-df-convert {\n",
              "      background-color: #E8F0FE;\n",
              "      border: none;\n",
              "      border-radius: 50%;\n",
              "      cursor: pointer;\n",
              "      display: none;\n",
              "      fill: #1967D2;\n",
              "      height: 32px;\n",
              "      padding: 0 0 0 0;\n",
              "      width: 32px;\n",
              "    }\n",
              "\n",
              "    .colab-df-convert:hover {\n",
              "      background-color: #E2EBFA;\n",
              "      box-shadow: 0px 1px 2px rgba(60, 64, 67, 0.3), 0px 1px 3px 1px rgba(60, 64, 67, 0.15);\n",
              "      fill: #174EA6;\n",
              "    }\n",
              "\n",
              "    [theme=dark] .colab-df-convert {\n",
              "      background-color: #3B4455;\n",
              "      fill: #D2E3FC;\n",
              "    }\n",
              "\n",
              "    [theme=dark] .colab-df-convert:hover {\n",
              "      background-color: #434B5C;\n",
              "      box-shadow: 0px 1px 3px 1px rgba(0, 0, 0, 0.15);\n",
              "      filter: drop-shadow(0px 1px 2px rgba(0, 0, 0, 0.3));\n",
              "      fill: #FFFFFF;\n",
              "    }\n",
              "  </style>\n",
              "\n",
              "      <script>\n",
              "        const buttonEl =\n",
              "          document.querySelector('#df-74639e80-d26e-48df-894e-a2a6d258edca button.colab-df-convert');\n",
              "        buttonEl.style.display =\n",
              "          google.colab.kernel.accessAllowed ? 'block' : 'none';\n",
              "\n",
              "        async function convertToInteractive(key) {\n",
              "          const element = document.querySelector('#df-74639e80-d26e-48df-894e-a2a6d258edca');\n",
              "          const dataTable =\n",
              "            await google.colab.kernel.invokeFunction('convertToInteractive',\n",
              "                                                     [key], {});\n",
              "          if (!dataTable) return;\n",
              "\n",
              "          const docLinkHtml = 'Like what you see? Visit the ' +\n",
              "            '<a target=\"_blank\" href=https://colab.research.google.com/notebooks/data_table.ipynb>data table notebook</a>'\n",
              "            + ' to learn more about interactive tables.';\n",
              "          element.innerHTML = '';\n",
              "          dataTable['output_type'] = 'display_data';\n",
              "          await google.colab.output.renderOutput(dataTable, element);\n",
              "          const docLink = document.createElement('div');\n",
              "          docLink.innerHTML = docLinkHtml;\n",
              "          element.appendChild(docLink);\n",
              "        }\n",
              "      </script>\n",
              "    </div>\n",
              "  </div>\n",
              "  "
            ]
          },
          "metadata": {},
          "execution_count": 13
        }
      ],
      "source": [
        "data.describe(include=['category']).T"
      ]
    },
    {
      "cell_type": "markdown",
      "id": "752d723c",
      "metadata": {
        "id": "752d723c"
      },
      "source": [
        "- The case ID attribute can be dropped as it is a unique ID variable and is not expected to add any value to the status of a visa being accepted\n",
        "- There are 6 continents in the database, with majority of applicants from Asia\n",
        "- There are 4 different levels of eduction with Bachelor's being the highest education degree for majority of applicants\n",
        "- Majority of applicants do not require further job training to perform the intended occupation in the US\n",
        "- There are 5 different regions in the US requiring immigrants due to Human Resource shortages, the maximum being in the NorthEast US region\n",
        "- There are 4 different units of wages with yearly being the most common. The prevailing wage and unit of wage may need to be studied in union to gather further insight\n",
        "- Majority of the occupation with employee shortages are full time positions\n",
        "- Case status is the attribute of interest (which needs to be predicted by our ML model). As per dataset, 66.7% of all applicants have a certified visa status and only 33.2% have a denied visa status"
      ]
    },
    {
      "cell_type": "code",
      "execution_count": null,
      "id": "d3421711",
      "metadata": {
        "id": "d3421711"
      },
      "outputs": [],
      "source": [
        "data.drop(['case_id'],axis=1,inplace=True)"
      ]
    },
    {
      "cell_type": "code",
      "execution_count": null,
      "id": "e5c2948f",
      "metadata": {
        "colab": {
          "base_uri": "https://localhost:8080/"
        },
        "id": "e5c2948f",
        "outputId": "16a7000f-3851-4b6b-e51a-01ed067c0b66"
      },
      "outputs": [
        {
          "output_type": "execute_result",
          "data": {
            "text/plain": [
              "continent                0\n",
              "education_of_employee    0\n",
              "has_job_experience       0\n",
              "requires_job_training    0\n",
              "no_of_employees          0\n",
              "yr_of_estab              0\n",
              "region_of_employment     0\n",
              "prevailing_wage          0\n",
              "unit_of_wage             0\n",
              "full_time_position       0\n",
              "case_status              0\n",
              "dtype: int64"
            ]
          },
          "metadata": {},
          "execution_count": 15
        }
      ],
      "source": [
        "data[data.duplicated()].count()"
      ]
    },
    {
      "cell_type": "markdown",
      "id": "d976853f",
      "metadata": {
        "id": "d976853f"
      },
      "source": [
        "-  There are no repeat data entries in the dataset that will need further cleaning"
      ]
    },
    {
      "cell_type": "markdown",
      "id": "seasonal-calibration",
      "metadata": {
        "id": "seasonal-calibration"
      },
      "source": [
        "## Exploratory Data Analysis (EDA)\n",
        "\n",
        "### Univariate analysis"
      ]
    },
    {
      "cell_type": "code",
      "execution_count": null,
      "id": "right-permit",
      "metadata": {
        "id": "right-permit"
      },
      "outputs": [],
      "source": [
        "# function to plot a boxplot and a histogram along the same scale.\n",
        "\n",
        "\n",
        "def histogram_boxplot(data, feature, figsize=(12, 7), kde=False, bins=None):\n",
        "    \"\"\"\n",
        "    Boxplot and histogram combined\n",
        "\n",
        "    data: dataframe\n",
        "    feature: dataframe column\n",
        "    figsize: size of figure (default (12,7))\n",
        "    kde: whether to show the density curve (default False)\n",
        "    bins: number of bins for histogram (default None)\n",
        "    \"\"\"\n",
        "    f2, (ax_box2, ax_hist2) = plt.subplots(\n",
        "        nrows=2,  # Number of rows of the subplot grid= 2\n",
        "        sharex=True,  # x-axis will be shared among all subplots\n",
        "        gridspec_kw={\"height_ratios\": (0.25, 0.75)},\n",
        "        figsize=figsize,\n",
        "    )  # creating the 2 subplots\n",
        "    sns.boxplot(\n",
        "        data=data, x=feature, ax=ax_box2, showmeans=True, color=\"violet\"\n",
        "    )  # boxplot will be created and a star will indicate the mean value of the column\n",
        "    sns.histplot(\n",
        "        data=data, x=feature, kde=kde, ax=ax_hist2, bins=bins, palette=\"winter\"\n",
        "    ) if bins else sns.histplot(\n",
        "        data=data, x=feature, kde=kde, ax=ax_hist2\n",
        "    )  # For histogram\n",
        "    ax_hist2.axvline(\n",
        "        data[feature].mean(), color=\"green\", linestyle=\"--\"\n",
        "    )  # Add mean to the histogram\n",
        "    ax_hist2.axvline(\n",
        "        data[feature].median(), color=\"black\", linestyle=\"-\"\n",
        "    )  # Add median to the histogram"
      ]
    },
    {
      "cell_type": "code",
      "execution_count": null,
      "id": "035ef33f",
      "metadata": {
        "id": "035ef33f"
      },
      "outputs": [],
      "source": [
        "#Observations on number_of_employees\n",
        "\n",
        "#Removing negative entries for no_of_employees\n",
        "data.drop(data[(data[\"no_of_employees\"]<=0)].index, inplace=True)"
      ]
    },
    {
      "cell_type": "code",
      "execution_count": null,
      "id": "f0555761",
      "metadata": {
        "colab": {
          "base_uri": "https://localhost:8080/"
        },
        "id": "f0555761",
        "outputId": "6a903e1e-2aa2-4b5a-d101-ade3638a4259"
      },
      "outputs": [
        {
          "output_type": "execute_result",
          "data": {
            "text/plain": [
              "(25447, 11)"
            ]
          },
          "metadata": {},
          "execution_count": 18
        }
      ],
      "source": [
        "data.shape"
      ]
    },
    {
      "cell_type": "markdown",
      "id": "84a1bf19",
      "metadata": {
        "id": "84a1bf19"
      },
      "source": [
        "- This removed thirty-three entries from the dataset"
      ]
    },
    {
      "cell_type": "code",
      "execution_count": null,
      "id": "e09cdf02",
      "metadata": {
        "colab": {
          "base_uri": "https://localhost:8080/",
          "height": 443
        },
        "id": "e09cdf02",
        "outputId": "5bf7dc8d-39c6-4b9e-e71b-b04ca0102a96"
      },
      "outputs": [
        {
          "output_type": "display_data",
          "data": {
            "text/plain": [
              "<Figure size 864x504 with 2 Axes>"
            ],
            "image/png": "[encoded data removed]"
          },
          "metadata": {
            "needs_background": "light"
          }
        }
      ],
      "source": [
        "histogram_boxplot(data, \"no_of_employees\")"
      ]
    },
    {
      "cell_type": "markdown",
      "id": "5488f8fe",
      "metadata": {
        "id": "5488f8fe"
      },
      "source": [
        "- The distribution for number of employees for employers is heavily skewed right"
      ]
    },
    {
      "cell_type": "code",
      "execution_count": null,
      "id": "35c82606",
      "metadata": {
        "colab": {
          "base_uri": "https://localhost:8080/",
          "height": 443
        },
        "id": "35c82606",
        "outputId": "e45564e0-b05a-458f-8226-0e2bd75f271b"
      },
      "outputs": [
        {
          "output_type": "display_data",
          "data": {
            "text/plain": [
              "<Figure size 864x504 with 2 Axes>"
            ],
            "image/png": "[encoded data removed]"
          },
          "metadata": {
            "needs_background": "light"
          }
        }
      ],
      "source": [
        "#Observations on year_of_establishment\n",
        "histogram_boxplot(data, \"yr_of_estab\")"
      ]
    },
    {
      "cell_type": "markdown",
      "id": "0526a446",
      "metadata": {
        "id": "0526a446"
      },
      "source": [
        "- The distribution for year established is skewed left"
      ]
    },
    {
      "cell_type": "code",
      "execution_count": null,
      "id": "3e7340a7",
      "metadata": {
        "id": "3e7340a7"
      },
      "outputs": [],
      "source": [
        "# function to create labeled barplots\n",
        "\n",
        "\n",
        "def labeled_barplot(data, feature, perc=False, n=None):\n",
        "    \"\"\"\n",
        "    Barplot with percentage at the top\n",
        "\n",
        "    data: dataframe\n",
        "    feature: dataframe column\n",
        "    perc: whether to display percentages instead of count (default is False)\n",
        "    n: displays the top n category levels (default is None, i.e., display all levels)\n",
        "    \"\"\"\n",
        "\n",
        "    total = len(data[feature])  # length of the column\n",
        "    count = data[feature].nunique()\n",
        "    if n is None:\n",
        "        plt.figure(figsize=(count + 1, 5))\n",
        "    else:\n",
        "        plt.figure(figsize=(n + 1, 5))\n",
        "\n",
        "    plt.xticks(rotation=90, fontsize=15)\n",
        "    ax = sns.countplot(\n",
        "        data=data,\n",
        "        x=feature,\n",
        "        palette=\"Paired\",\n",
        "        order=data[feature].value_counts().index[:n].sort_values(),\n",
        "    )\n",
        "\n",
        "    for p in ax.patches:\n",
        "        if perc == True:\n",
        "            label = \"{:.1f}%\".format(\n",
        "                100 * p.get_height() / total\n",
        "            )  # percentage of each class of the category\n",
        "        else:\n",
        "            label = p.get_height()  # count of each level of the category\n",
        "\n",
        "        x = p.get_x() + p.get_width() / 2  # width of the plot\n",
        "        y = p.get_height()  # height of the plot\n",
        "\n",
        "        ax.annotate(\n",
        "            label,\n",
        "            (x, y),\n",
        "            ha=\"center\",\n",
        "            va=\"center\",\n",
        "            size=12,\n",
        "            xytext=(0, 5),\n",
        "            textcoords=\"offset points\",\n",
        "        )  # annotate the percentage\n",
        "\n",
        "    plt.show()  # show the plot"
      ]
    },
    {
      "cell_type": "code",
      "execution_count": null,
      "id": "c73de970",
      "metadata": {
        "colab": {
          "base_uri": "https://localhost:8080/",
          "height": 372
        },
        "id": "c73de970",
        "outputId": "bc3f2b38-880d-4880-fe17-520b9d3444cf"
      },
      "outputs": [
        {
          "output_type": "display_data",
          "data": {
            "text/plain": [
              "<Figure size 360x360 with 1 Axes>"
            ],
            "image/png": "[encoded data removed]"
          },
          "metadata": {
            "needs_background": "light"
          }
        }
      ],
      "source": [
        "labeled_barplot(data, \"unit_of_wage\", perc=True);"
      ]
    },
    {
      "cell_type": "markdown",
      "id": "d482f0ac",
      "metadata": {
        "id": "d482f0ac"
      },
      "source": [
        "- Almost 90% of all entries are with unit_of_wage as yearly and only 8.5% entries as hourly. Negligible entries are on a monthly and weekly basis (which requires further investigation)"
      ]
    },
    {
      "cell_type": "code",
      "execution_count": null,
      "id": "aceab2e4",
      "metadata": {
        "colab": {
          "base_uri": "https://localhost:8080/",
          "height": 443
        },
        "id": "aceab2e4",
        "outputId": "702fa698-1693-4f28-be56-51f3eece02bb"
      },
      "outputs": [
        {
          "output_type": "display_data",
          "data": {
            "text/plain": [
              "<Figure size 864x504 with 2 Axes>"
            ],
            "image/png": "[encoded data removed]"
          },
          "metadata": {
            "needs_background": "light"
          }
        }
      ],
      "source": [
        "#Observations specifically on data where unit_of_wage is yearly\n",
        "histogram_boxplot(data[(data[\"unit_of_wage\"]==\"Year\")], \"prevailing_wage\")"
      ]
    },
    {
      "cell_type": "markdown",
      "id": "b468596e",
      "metadata": {
        "id": "b468596e"
      },
      "source": [
        "- The average and median annual salary is approx. USD 70,000 which seems accurate\n",
        "- The trend appears correct with outliers in the higher income bracket between USD 200,000 to USD 300,000\n",
        "- There are several very low salaries as well, which appears incorrect and requires further investigation"
      ]
    },
    {
      "cell_type": "code",
      "execution_count": null,
      "id": "dbbbbba3",
      "metadata": {
        "colab": {
          "base_uri": "https://localhost:8080/",
          "height": 443
        },
        "id": "dbbbbba3",
        "outputId": "6d69f087-0dc8-4bf2-de48-b6cbea4d985d"
      },
      "outputs": [
        {
          "output_type": "display_data",
          "data": {
            "text/plain": [
              "<Figure size 864x504 with 2 Axes>"
            ],
            "image/png": "[encoded data removed]"
          },
          "metadata": {
            "needs_background": "light"
          }
        }
      ],
      "source": [
        "#Observations specifically on data where unit_of_wage is weekly or monthly\n",
        "histogram_boxplot(data[(data[\"unit_of_wage\"]==\"Month\")], \"prevailing_wage\")"
      ]
    },
    {
      "cell_type": "code",
      "execution_count": null,
      "id": "da48a67e",
      "metadata": {
        "id": "da48a67e",
        "outputId": "84f68272-7398-4b38-b829-b80ff4c70ff8"
      },
      "outputs": [
        {
          "data": {
            "image/png": "[encoded data removed]",
            "text/plain": [
              "<Figure size 864x504 with 2 Axes>"
            ]
          },
          "metadata": {
            "needs_background": "light"
          },
          "output_type": "display_data"
        }
      ],
      "source": [
        "histogram_boxplot(data[(data[\"unit_of_wage\"]==\"Week\")], \"prevailing_wage\")"
      ]
    },
    {
      "cell_type": "markdown",
      "id": "c0f1f0d5",
      "metadata": {
        "id": "c0f1f0d5"
      },
      "source": [
        "- Based on the data we see above, we can infer that prevailing_wages is likely already a yearly salary where unit_of_wage is either weekly or monthly"
      ]
    },
    {
      "cell_type": "code",
      "execution_count": null,
      "id": "70813e98",
      "metadata": {
        "colab": {
          "base_uri": "https://localhost:8080/",
          "height": 443
        },
        "id": "70813e98",
        "outputId": "0aa77652-1d10-45c2-a650-a58136c0bc52"
      },
      "outputs": [
        {
          "output_type": "display_data",
          "data": {
            "text/plain": [
              "<Figure size 864x504 with 2 Axes>"
            ],
            "image/png": "[encoded data removed]"
          },
          "metadata": {
            "needs_background": "light"
          }
        }
      ],
      "source": [
        "#Observations specifically on data where unit_of_wage is hourly\n",
        "histogram_boxplot(data[data[\"unit_of_wage\"]==\"Hour\"], \"prevailing_wage\")"
      ]
    },
    {
      "cell_type": "markdown",
      "id": "9bd21e6f",
      "metadata": {
        "id": "9bd21e6f"
      },
      "source": [
        "- Based on the data we see above, we can infer that the prevailing_wage is likely a weekly salary where unit_of_wage is hourly.\n",
        "(We make this assumption as a median rate of pay of USD 400 per hour appears incorrect.)"
      ]
    },
    {
      "cell_type": "markdown",
      "id": "918e4237",
      "metadata": {
        "id": "918e4237"
      },
      "source": [
        "#### It can be infered that the dataset is very unclean.\n",
        "- \"prevailing_wages\" will be cleaned up to contain only wages on an annual basis, so it is uniform and can be used for model building\n",
        "- \"unit_wages\" is assumed to be:\n",
        "    - Not-Hourly, when the employee is paid a fixed salary (irrespective of the number of hours worked). We will consider any unit_of_wages inherently as weekly, monthly or yearly as Not-Hourly\n",
        "    - Hourly, when the employee is paid depending on the number of hours worked. We will consider any unit_of_wages inherently as hourly as hourly"
      ]
    },
    {
      "cell_type": "code",
      "execution_count": null,
      "id": "8b8cdacf",
      "metadata": {
        "id": "8b8cdacf"
      },
      "outputs": [],
      "source": [
        "data.loc[data[\"unit_of_wage\"]==\"Hour\", \"prevailing_wage\"] = \\\n",
        "data.loc[data[\"unit_of_wage\"]==\"Hour\", \"prevailing_wage\"]*52\n",
        "# assuming 52 paid weeks per year"
      ]
    },
    {
      "cell_type": "code",
      "execution_count": null,
      "id": "e0b67ab5",
      "metadata": {
        "id": "e0b67ab5"
      },
      "outputs": [],
      "source": [
        "data[\"unit_of_wage\"] = data[\"unit_of_wage\"].astype('object')\n",
        "data.loc[data[\"unit_of_wage\"]==\"Hour\", \"unit_of_wage\"] = \"Hourly\"\n",
        "data.loc[data[\"unit_of_wage\"]==\"Week\", \"unit_of_wage\"] = \"Not_Hourly\"\n",
        "data.loc[data[\"unit_of_wage\"]==\"Month\", \"unit_of_wage\"] = \"Not_Hourly\"\n",
        "data.loc[data[\"unit_of_wage\"]==\"Year\", \"unit_of_wage\"] = \"Not_Hourly\"\n",
        "data[\"unit_of_wage\"] = data[\"unit_of_wage\"].astype('category')"
      ]
    },
    {
      "cell_type": "code",
      "execution_count": null,
      "id": "c9b0b7b1",
      "metadata": {
        "colab": {
          "base_uri": "https://localhost:8080/",
          "height": 408
        },
        "id": "c9b0b7b1",
        "outputId": "8bed0736-20fe-4bd4-c58f-f79bee406de1"
      },
      "outputs": [
        {
          "output_type": "display_data",
          "data": {
            "text/plain": [
              "<Figure size 216x360 with 1 Axes>"
            ],
            "image/png": "[encoded data removed]"
          },
          "metadata": {
            "needs_background": "light"
          }
        }
      ],
      "source": [
        "labeled_barplot(data, \"unit_of_wage\", perc=True)"
      ]
    },
    {
      "cell_type": "code",
      "execution_count": null,
      "id": "eaaecae4",
      "metadata": {
        "colab": {
          "base_uri": "https://localhost:8080/",
          "height": 443
        },
        "id": "eaaecae4",
        "outputId": "ac1067d2-5a8b-4f9c-e0b7-aa0d37197d13"
      },
      "outputs": [
        {
          "output_type": "display_data",
          "data": {
            "text/plain": [
              "<Figure size 864x504 with 2 Axes>"
            ],
            "image/png": "[encoded data removed]"
          },
          "metadata": {
            "needs_background": "light"
          }
        }
      ],
      "source": [
        "histogram_boxplot(data, \"prevailing_wage\")"
      ]
    },
    {
      "cell_type": "markdown",
      "id": "10f572b9",
      "metadata": {
        "id": "10f572b9"
      },
      "source": [
        "- There are still several lower and upper end outlier in annual_prevailing_wages which requires further investigation"
      ]
    },
    {
      "cell_type": "code",
      "execution_count": null,
      "id": "5793b7b9",
      "metadata": {
        "colab": {
          "base_uri": "https://localhost:8080/",
          "height": 434
        },
        "id": "5793b7b9",
        "outputId": "1532df88-11be-446c-81b5-4467fe06722e"
      },
      "outputs": [
        {
          "output_type": "display_data",
          "data": {
            "text/plain": [
              "<Figure size 504x360 with 1 Axes>"
            ],
            "image/png": "[encoded data removed]"
          },
          "metadata": {
            "needs_background": "light"
          }
        }
      ],
      "source": [
        "#Observations on continent\n",
        "labeled_barplot(data, \"continent\", perc=True)"
      ]
    },
    {
      "cell_type": "markdown",
      "id": "93461634",
      "metadata": {
        "id": "93461634"
      },
      "source": [
        "- Majority of employees (>50%) are from Asia"
      ]
    },
    {
      "cell_type": "code",
      "execution_count": null,
      "id": "308fb1c0",
      "metadata": {
        "colab": {
          "base_uri": "https://localhost:8080/",
          "height": 414
        },
        "id": "308fb1c0",
        "outputId": "baa2bd38-b686-43f9-b16e-81bb089b2cb0"
      },
      "outputs": [
        {
          "output_type": "display_data",
          "data": {
            "text/plain": [
              "<Figure size 360x360 with 1 Axes>"
            ],
            "image/png": "[encoded data removed]"
          },
          "metadata": {
            "needs_background": "light"
          }
        }
      ],
      "source": [
        "#Observations on education\n",
        "labeled_barplot(data, \"education_of_employee\", perc=True)"
      ]
    },
    {
      "cell_type": "markdown",
      "id": "ac05c0e5",
      "metadata": {
        "id": "ac05c0e5"
      },
      "source": [
        "- Majority of employees have either a bachelor's (40%) or a master's (38%) and minority of applicants have either a doctorate (8%) or only a high school diploma (13%)"
      ]
    },
    {
      "cell_type": "code",
      "execution_count": null,
      "id": "5e5551c8",
      "metadata": {
        "colab": {
          "base_uri": "https://localhost:8080/",
          "height": 336
        },
        "id": "5e5551c8",
        "outputId": "3821b1b3-05a6-4137-c153-68c879f9f5d8"
      },
      "outputs": [
        {
          "output_type": "display_data",
          "data": {
            "text/plain": [
              "<Figure size 216x360 with 1 Axes>"
            ],
            "image/png": "[encoded data removed]"
          },
          "metadata": {
            "needs_background": "light"
          }
        }
      ],
      "source": [
        "#Observations on job_experience\n",
        "labeled_barplot(data, \"has_job_experience\", perc=True)"
      ]
    },
    {
      "cell_type": "markdown",
      "id": "9052af14",
      "metadata": {
        "id": "9052af14"
      },
      "source": [
        "- Around 58% employees have prior job experience and 42% employees do not"
      ]
    },
    {
      "cell_type": "code",
      "execution_count": null,
      "id": "71e3000f",
      "metadata": {
        "colab": {
          "base_uri": "https://localhost:8080/",
          "height": 336
        },
        "id": "71e3000f",
        "outputId": "308c6bd0-66bc-4c2b-e8b0-6fd674219445"
      },
      "outputs": [
        {
          "output_type": "display_data",
          "data": {
            "text/plain": [
              "<Figure size 216x360 with 1 Axes>"
            ],
            "image/png": "[encoded data removed]"
          },
          "metadata": {
            "needs_background": "light"
          }
        }
      ],
      "source": [
        "#Observations on requires_training\n",
        "labeled_barplot(data, \"requires_job_training\", perc=True)"
      ]
    },
    {
      "cell_type": "markdown",
      "id": "a66a4d0a",
      "metadata": {
        "id": "a66a4d0a"
      },
      "source": [
        "- Majority do not require job training (88%). Although we observed that only 58% had prior job experience. It is possible that some occupations require employees with no prior job experience"
      ]
    },
    {
      "cell_type": "code",
      "execution_count": null,
      "id": "b0d00094",
      "metadata": {
        "colab": {
          "base_uri": "https://localhost:8080/",
          "height": 399
        },
        "id": "b0d00094",
        "outputId": "723eb36a-a709-4fd7-80ac-124f8496ace4"
      },
      "outputs": [
        {
          "output_type": "display_data",
          "data": {
            "text/plain": [
              "<Figure size 432x360 with 1 Axes>"
            ],
            "image/png": "[encoded data removed]"
          },
          "metadata": {
            "needs_background": "light"
          }
        }
      ],
      "source": [
        "#Observations on region_of_employment\n",
        "labeled_barplot(data, \"region_of_employment\", perc=True)"
      ]
    },
    {
      "cell_type": "markdown",
      "id": "ce9c5527",
      "metadata": {
        "id": "ce9c5527"
      },
      "source": [
        "- Northeast, South and West equally have employment opportunities with Human Resource shortages with 25-28% employees applying for visa approval to these regions, followed by Midwest (18%) and Island (1.5%)"
      ]
    },
    {
      "cell_type": "code",
      "execution_count": null,
      "id": "e779aa9f",
      "metadata": {
        "colab": {
          "base_uri": "https://localhost:8080/",
          "height": 336
        },
        "id": "e779aa9f",
        "outputId": "fef496a0-0a9e-41d4-b389-1788949b2da0"
      },
      "outputs": [
        {
          "output_type": "display_data",
          "data": {
            "text/plain": [
              "<Figure size 216x360 with 1 Axes>"
            ],
            "image/png": "[encoded data removed]"
          },
          "metadata": {
            "needs_background": "light"
          }
        }
      ],
      "source": [
        "#Observations on full_time_position\n",
        "labeled_barplot(data, \"full_time_position\", perc=True)"
      ]
    },
    {
      "cell_type": "markdown",
      "id": "46a6ee41",
      "metadata": {
        "id": "46a6ee41"
      },
      "source": [
        "- 88% are full time positions"
      ]
    },
    {
      "cell_type": "code",
      "execution_count": null,
      "id": "99de6728",
      "metadata": {
        "colab": {
          "base_uri": "https://localhost:8080/",
          "height": 389
        },
        "id": "99de6728",
        "outputId": "0b475f54-178a-4566-be25-666ece85493f"
      },
      "outputs": [
        {
          "output_type": "display_data",
          "data": {
            "text/plain": [
              "<Figure size 216x360 with 1 Axes>"
            ],
            "image/png": "[encoded data removed]"
          },
          "metadata": {
            "needs_background": "light"
          }
        }
      ],
      "source": [
        "#Observations on case_status\n",
        "labeled_barplot(data, \"case_status\", perc=True)"
      ]
    },
    {
      "cell_type": "markdown",
      "id": "9d40a4cf",
      "metadata": {
        "id": "9d40a4cf"
      },
      "source": [
        "- Approximately, 67% cases are approved and 33% cases are denied"
      ]
    },
    {
      "cell_type": "markdown",
      "id": "fe19c09b",
      "metadata": {
        "id": "fe19c09b"
      },
      "source": [
        "### Bivariate analysis and data preprocessing"
      ]
    },
    {
      "cell_type": "code",
      "execution_count": null,
      "id": "0ae3653f",
      "metadata": {
        "colab": {
          "base_uri": "https://localhost:8080/",
          "height": 335
        },
        "id": "0ae3653f",
        "outputId": "fdf3c74a-39ea-43e9-df45-3933b13aa18b"
      },
      "outputs": [
        {
          "output_type": "display_data",
          "data": {
            "text/plain": [
              "<Figure size 1080x360 with 2 Axes>"
            ],
            "image/png": "[encoded data removed]"
          },
          "metadata": {
            "needs_background": "light"
          }
        }
      ],
      "source": [
        "#number of employees and case status\n",
        "fig,ax=plt.subplots(1,2, figsize=(15,5))\n",
        "sns.histplot(data=data[data[\"no_of_employees\"]<20000], x=\"no_of_employees\", hue=\"case_status\", ax=ax[0]);\n",
        "sns.histplot(data=data[data[\"no_of_employees\"]>20000], x=\"no_of_employees\", hue=\"case_status\", ax=ax[1]);"
      ]
    },
    {
      "cell_type": "markdown",
      "id": "66b18446",
      "metadata": {
        "id": "66b18446"
      },
      "source": [
        "- Greater than twice the number of cases are certified than denied both for employers having lesser as well as more number of employees.\n",
        "- The large number of outliers in attribute will require further treatment. Although, the ML model is based on decision trees, which optimizes & splits(bins) the data by default, we can choose to bin the continuous datapoints into 3 practically chosen bins to decrease the model building time. This is because from the EDA, we see no spcific relationship between cases being certified and no_of_employees in an organization.  "
      ]
    },
    {
      "cell_type": "code",
      "execution_count": null,
      "id": "38fa1cda",
      "metadata": {
        "id": "38fa1cda"
      },
      "outputs": [],
      "source": [
        "data[\"no_of_employees\"] = pd.cut( data[\"no_of_employees\"], \\\n",
        "                                  [0, 2500, 7500, np.inf], \\\n",
        "                                  labels = [\"Small_Sized(<2500employees)\", \\\n",
        "                                            \"Medium_Sized(2500-7500employees)\", \\\n",
        "                                            \"Large_Sized(>75000employees)\"])\n",
        "data[\"no_of_employees\"] = data[\"no_of_employees\"].astype(\"category\")"
      ]
    },
    {
      "cell_type": "code",
      "execution_count": null,
      "id": "f39718d0",
      "metadata": {
        "id": "f39718d0"
      },
      "outputs": [],
      "source": [
        "def stacked_barplot(data, predictor, target):\n",
        "    \"\"\"\n",
        "    Print the category counts and plot a stacked bar chart\n",
        "\n",
        "    data: dataframe\n",
        "    predictor: independent variable\n",
        "    target: target variable\n",
        "    \"\"\"\n",
        "    count = data[predictor].nunique()\n",
        "    sorter = data[target].value_counts().index[-1]\n",
        "    tab1 = pd.crosstab(data[predictor], data[target], margins=True).sort_values(\n",
        "        by=sorter, ascending=False\n",
        "    )\n",
        "    print(tab1)\n",
        "    print(\"-\" * 120)\n",
        "    tab = pd.crosstab(data[predictor], data[target], normalize=\"index\").sort_values(\n",
        "        by=sorter, ascending=False\n",
        "    )\n",
        "    tab.plot(kind=\"bar\", stacked=True, figsize=(count + 5, 5))\n",
        "    plt.legend(\n",
        "        loc=\"lower left\", frameon=False,\n",
        "    )\n",
        "    plt.legend(loc=\"upper left\", bbox_to_anchor=(1, 1))\n",
        "    plt.show()"
      ]
    },
    {
      "cell_type": "code",
      "execution_count": null,
      "id": "cdb11a3e",
      "metadata": {
        "colab": {
          "base_uri": "https://localhost:8080/",
          "height": 634
        },
        "id": "cdb11a3e",
        "outputId": "c63b9713-c4f0-4f85-aa07-79f0abbf0890"
      },
      "outputs": [
        {
          "output_type": "stream",
          "name": "stdout",
          "text": [
            "case_status                       Certified  Denied    All\n",
            "no_of_employees                                           \n",
            "All                                   17001    8446  25447\n",
            "Small_Sized(<2500employees)            9674    5084  14758\n",
            "Medium_Sized(2500-7500employees)       6272    2874   9146\n",
            "Large_Sized(>75000employees)           1055     488   1543\n",
            "------------------------------------------------------------------------------------------------------------------------\n"
          ]
        },
        {
          "output_type": "display_data",
          "data": {
            "text/plain": [
              "<Figure size 576x360 with 1 Axes>"
            ],
            "image/png": "[encoded data removed]"
          },
          "metadata": {
            "needs_background": "light"
          }
        }
      ],
      "source": [
        "stacked_barplot(data, \"no_of_employees\", \"case_status\")"
      ]
    },
    {
      "cell_type": "markdown",
      "id": "f865fd27",
      "metadata": {
        "id": "f865fd27"
      },
      "source": [
        "- The information is retained after binning. >65% of cases in all categories are certified\n",
        "- 58% are small sized companies (less than 2500 employees), 36% are medium_sized and 6% are larege sized companies (more than 7500 employees)"
      ]
    },
    {
      "cell_type": "code",
      "execution_count": null,
      "id": "16858862",
      "metadata": {
        "colab": {
          "base_uri": "https://localhost:8080/",
          "height": 335
        },
        "id": "16858862",
        "outputId": "785aecd7-07f8-4af9-c274-f1fdb39cf564"
      },
      "outputs": [
        {
          "output_type": "display_data",
          "data": {
            "text/plain": [
              "<Figure size 1440x360 with 1 Axes>"
            ],
            "image/png": "[encoded data removed]"
          },
          "metadata": {
            "needs_background": "light"
          }
        }
      ],
      "source": [
        "#year of establishment and case_status\n",
        "plt.figure(figsize=(20,5))\n",
        "sns.histplot(data, x=\"yr_of_estab\", hue=\"case_status\");"
      ]
    },
    {
      "cell_type": "markdown",
      "id": "bd1ae55a",
      "metadata": {
        "id": "bd1ae55a"
      },
      "source": [
        "- Similar to before, slightly more than 50% of all cases are certified than denied for employers irrespective of the employer's year of establishment\n",
        "- There are a large number of lower ended outliers, which will be binned likewise -"
      ]
    },
    {
      "cell_type": "code",
      "execution_count": null,
      "id": "788a81cb",
      "metadata": {
        "id": "788a81cb"
      },
      "outputs": [],
      "source": [
        "data[\"yr_of_estab\"] = pd.cut( data[\"yr_of_estab\"], \\\n",
        "                                  [-np.inf, 1990, np.inf], \\\n",
        "                                  labels = [\"Older_Estab(1800-1990)\", \\\n",
        "                                            \"Newer_Estab(>1990)\"])\n",
        "data[\"yr_of_estab\"] = data[\"yr_of_estab\"].astype(\"category\")"
      ]
    },
    {
      "cell_type": "code",
      "execution_count": null,
      "id": "ca97f789",
      "metadata": {
        "colab": {
          "base_uri": "https://localhost:8080/",
          "height": 550
        },
        "id": "ca97f789",
        "outputId": "21c30053-8390-4416-caa6-ef192e410028"
      },
      "outputs": [
        {
          "output_type": "stream",
          "name": "stdout",
          "text": [
            "case_status             Certified  Denied    All\n",
            "yr_of_estab                                     \n",
            "All                         17001    8446  25447\n",
            "Newer_Estab(>1990)          10427    5083  15510\n",
            "Older_Estab(1800-1990)       6574    3363   9937\n",
            "------------------------------------------------------------------------------------------------------------------------\n"
          ]
        },
        {
          "output_type": "display_data",
          "data": {
            "text/plain": [
              "<Figure size 504x360 with 1 Axes>"
            ],
            "image/png": "[encoded data removed]"
          },
          "metadata": {
            "needs_background": "light"
          }
        }
      ],
      "source": [
        "stacked_barplot(data, \"yr_of_estab\", \"case_status\")"
      ]
    },
    {
      "cell_type": "markdown",
      "id": "3e1ba146",
      "metadata": {
        "id": "3e1ba146"
      },
      "source": [
        "- The information is retained after binning. >65% of cases in both categories are approved\n",
        "- Around 61% of employers were established after 1990 and 39% of employers before 1990"
      ]
    },
    {
      "cell_type": "code",
      "execution_count": null,
      "id": "f51085d4",
      "metadata": {
        "colab": {
          "base_uri": "https://localhost:8080/",
          "height": 484
        },
        "id": "f51085d4",
        "outputId": "a059361b-3d7a-4425-e7de-90254bf29f7d"
      },
      "outputs": [
        {
          "output_type": "stream",
          "name": "stdout",
          "text": [
            "case_status   Certified  Denied    All\n",
            "unit_of_wage                          \n",
            "All               17001    8446  25447\n",
            "Not_Hourly        16254    7040  23294\n",
            "Hourly              747    1406   2153\n",
            "------------------------------------------------------------------------------------------------------------------------\n"
          ]
        },
        {
          "output_type": "display_data",
          "data": {
            "text/plain": [
              "<Figure size 504x360 with 1 Axes>"
            ],
            "image/png": "[encoded data removed]"
          },
          "metadata": {
            "needs_background": "light"
          }
        }
      ],
      "source": [
        "stacked_barplot(data, \"unit_of_wage\", \"case_status\")"
      ]
    },
    {
      "cell_type": "markdown",
      "id": "e98708cf",
      "metadata": {
        "id": "e98708cf"
      },
      "source": [
        "- Almost 70% of cases are certified when the unit_of_wage is not hourly, and only 35% cases are certified when the unit_of_wage is hourly"
      ]
    },
    {
      "cell_type": "code",
      "execution_count": null,
      "id": "b7a4c6dd",
      "metadata": {
        "colab": {
          "base_uri": "https://localhost:8080/",
          "height": 335
        },
        "id": "b7a4c6dd",
        "outputId": "c78d1c5a-6450-4f3b-b898-af12d7d49a4e"
      },
      "outputs": [
        {
          "output_type": "display_data",
          "data": {
            "text/plain": [
              "<Figure size 1440x360 with 1 Axes>"
            ],
            "image/png": "[encoded data removed]"
          },
          "metadata": {
            "needs_background": "light"
          }
        }
      ],
      "source": [
        "#prevailing_wage and case_status\n",
        "\n",
        "plt.figure(figsize=(20,5))\n",
        "sns.histplot(data, x=\"prevailing_wage\", hue=\"case_status\");"
      ]
    },
    {
      "cell_type": "markdown",
      "id": "14d37610",
      "metadata": {
        "id": "14d37610"
      },
      "source": [
        "- There are some outliers on the lower end (USD 14,500 or less annually) which are worrying. These may reference either positions that are unskilled or where tips received make up portion of the compensation. Similarly, there are outliers on the higher end (USD 200,000 or more annually) which reference highly skilled positions. We see a general trend that ~ twice the cases are certified more than denied.\n",
        "- % certifications in comparison to % denied drops slightly on the lower end of the prevailing_wage and increases slightly on the upper end of the prevailing_wage\n",
        "- The number of outliers are not as high as in the previous two instances (no_of_employees & yr_of_estab), as decision trees are immune to outliers, this has not been treated further. As well, above a certain income threshold & below a certain treshold, EDA indicates, similar response for case statuses"
      ]
    },
    {
      "cell_type": "code",
      "execution_count": null,
      "id": "7650abf0",
      "metadata": {
        "colab": {
          "base_uri": "https://localhost:8080/",
          "height": 571
        },
        "id": "7650abf0",
        "outputId": "d96c9f69-fd88-465f-c037-82bc466a0ca4"
      },
      "outputs": [
        {
          "output_type": "stream",
          "name": "stdout",
          "text": [
            "case_status    Certified  Denied    All\n",
            "continent                              \n",
            "All                17001    8446  25447\n",
            "Asia               11001    5839  16840\n",
            "North America       2037    1250   3287\n",
            "Europe              2953     774   3727\n",
            "South America        492     359    851\n",
            "Africa               396     154    550\n",
            "Oceania              122      70    192\n",
            "------------------------------------------------------------------------------------------------------------------------\n"
          ]
        },
        {
          "output_type": "display_data",
          "data": {
            "text/plain": [
              "<Figure size 792x360 with 1 Axes>"
            ],
            "image/png": "[encoded data removed]"
          },
          "metadata": {
            "needs_background": "light"
          }
        }
      ],
      "source": [
        "#continent and case status\n",
        "stacked_barplot(data, \"continent\", \"case_status\")"
      ]
    },
    {
      "cell_type": "markdown",
      "id": "048cd93c",
      "metadata": {
        "id": "048cd93c"
      },
      "source": [
        "- Irrespective of the continent the employee is from, more cases are certified than denied\n",
        "- The trend observed w.r.t % certification for continents is Europe > Africa > Asia > Oceania > North America & South America"
      ]
    },
    {
      "cell_type": "code",
      "execution_count": null,
      "id": "0c914fe4",
      "metadata": {
        "colab": {
          "base_uri": "https://localhost:8080/",
          "height": 523
        },
        "id": "0c914fe4",
        "outputId": "1b1ceba0-c851-4a7d-c27e-1693908f5d3d"
      },
      "outputs": [
        {
          "output_type": "stream",
          "name": "stdout",
          "text": [
            "case_status            Certified  Denied    All\n",
            "education_of_employee                          \n",
            "All                        17001    8446  25447\n",
            "Bachelor's                  6362    3858  10220\n",
            "High School                 1164    2252   3416\n",
            "Master's                    7565    2057   9622\n",
            "Doctorate                   1910     279   2189\n",
            "------------------------------------------------------------------------------------------------------------------------\n"
          ]
        },
        {
          "output_type": "display_data",
          "data": {
            "text/plain": [
              "<Figure size 648x360 with 1 Axes>"
            ],
            "image/png": "[encoded data removed]"
          },
          "metadata": {
            "needs_background": "light"
          }
        }
      ],
      "source": [
        "#education and case status\n",
        "stacked_barplot(data, \"education_of_employee\", \"case_status\")"
      ]
    },
    {
      "cell_type": "markdown",
      "id": "e0fcd822",
      "metadata": {
        "id": "e0fcd822"
      },
      "source": [
        "- As expected the, the trend observed w.r.t % visa certification for education of employees is Doctorate > Master's > Bachelor's > High School"
      ]
    },
    {
      "cell_type": "code",
      "execution_count": null,
      "id": "a62ec849",
      "metadata": {
        "colab": {
          "base_uri": "https://localhost:8080/",
          "height": 436
        },
        "id": "a62ec849",
        "outputId": "b7d61a29-31e3-43a2-c82b-35235189d865"
      },
      "outputs": [
        {
          "output_type": "stream",
          "name": "stdout",
          "text": [
            "case_status         Certified  Denied    All\n",
            "has_job_experience                          \n",
            "All                     17001    8446  25447\n",
            "N                        5986    4675  10661\n",
            "Y                       11015    3771  14786\n",
            "------------------------------------------------------------------------------------------------------------------------\n"
          ]
        },
        {
          "output_type": "display_data",
          "data": {
            "text/plain": [
              "<Figure size 504x360 with 1 Axes>"
            ],
            "image/png": "[encoded data removed]"
          },
          "metadata": {
            "needs_background": "light"
          }
        }
      ],
      "source": [
        "#job_experience and case status\n",
        "stacked_barplot(data, \"has_job_experience\", \"case_status\")"
      ]
    },
    {
      "cell_type": "markdown",
      "id": "e792b2a2",
      "metadata": {
        "id": "e792b2a2"
      },
      "source": [
        "- As expected, the trend observed w.r.t % visa certifications for has_job_experience is Yes > No"
      ]
    },
    {
      "cell_type": "code",
      "execution_count": null,
      "id": "cf7cc554",
      "metadata": {
        "colab": {
          "base_uri": "https://localhost:8080/",
          "height": 436
        },
        "id": "cf7cc554",
        "outputId": "469061df-7599-44cc-caeb-f74486e692ed"
      },
      "outputs": [
        {
          "output_type": "stream",
          "name": "stdout",
          "text": [
            "case_status            Certified  Denied    All\n",
            "requires_job_training                          \n",
            "All                        17001    8446  25447\n",
            "N                          15000    7498  22498\n",
            "Y                           2001     948   2949\n",
            "------------------------------------------------------------------------------------------------------------------------\n"
          ]
        },
        {
          "output_type": "display_data",
          "data": {
            "text/plain": [
              "<Figure size 504x360 with 1 Axes>"
            ],
            "image/png": "[encoded data removed]"
          },
          "metadata": {
            "needs_background": "light"
          }
        }
      ],
      "source": [
        "#requires_job_training and case status\n",
        "stacked_barplot(data, \"requires_job_training\", \"case_status\")"
      ]
    },
    {
      "cell_type": "markdown",
      "id": "8cea3efb",
      "metadata": {
        "id": "8cea3efb"
      },
      "source": [
        "Trend observed w.r.t. % visa certifications for requires_job_training is same Yes ~ No"
      ]
    },
    {
      "cell_type": "code",
      "execution_count": null,
      "id": "d8ef74c9",
      "metadata": {
        "colab": {
          "base_uri": "https://localhost:8080/",
          "height": 530
        },
        "id": "d8ef74c9",
        "outputId": "0af5e18c-48fc-48ae-be45-60fd2bcac6e0"
      },
      "outputs": [
        {
          "output_type": "stream",
          "name": "stdout",
          "text": [
            "case_status           Certified  Denied    All\n",
            "region_of_employment                          \n",
            "All                       17001    8446  25447\n",
            "Northeast                  4524    2665   7189\n",
            "West                       4097    2481   6578\n",
            "South                      4908    2098   7006\n",
            "Midwest                    3246    1053   4299\n",
            "Island                      226     149    375\n",
            "------------------------------------------------------------------------------------------------------------------------\n"
          ]
        },
        {
          "output_type": "display_data",
          "data": {
            "text/plain": [
              "<Figure size 720x360 with 1 Axes>"
            ],
            "image/png": "[encoded data removed]"
          },
          "metadata": {
            "needs_background": "light"
          }
        }
      ],
      "source": [
        "#region_of_employment and case status\n",
        "stacked_barplot(data, \"region_of_employment\", \"case_status\")"
      ]
    },
    {
      "cell_type": "markdown",
      "id": "0645d5f5",
      "metadata": {
        "id": "0645d5f5"
      },
      "source": [
        "- Trend observed w.r.t visa certifications for region_of_employment is MidWest > South > Northeast ~ West > Island"
      ]
    },
    {
      "cell_type": "code",
      "execution_count": null,
      "id": "d6b274dc",
      "metadata": {
        "colab": {
          "base_uri": "https://localhost:8080/",
          "height": 436
        },
        "id": "d6b274dc",
        "outputId": "6c09eb98-024a-4be9-f93d-075f5d9249be"
      },
      "outputs": [
        {
          "output_type": "stream",
          "name": "stdout",
          "text": [
            "case_status         Certified  Denied    All\n",
            "full_time_position                          \n",
            "All                     17001    8446  25447\n",
            "Y                       15146    7595  22741\n",
            "N                        1855     851   2706\n",
            "------------------------------------------------------------------------------------------------------------------------\n"
          ]
        },
        {
          "output_type": "display_data",
          "data": {
            "text/plain": [
              "<Figure size 504x360 with 1 Axes>"
            ],
            "image/png": "[encoded data removed]"
          },
          "metadata": {
            "needs_background": "light"
          }
        }
      ],
      "source": [
        "#full_time_position and case status\n",
        "stacked_barplot(data, \"full_time_position\", \"case_status\")"
      ]
    },
    {
      "cell_type": "markdown",
      "id": "7df48d66",
      "metadata": {
        "id": "7df48d66"
      },
      "source": [
        "Trend observed w.r.t. % visa certifications for full_time_position is same Yes ~ No"
      ]
    },
    {
      "cell_type": "markdown",
      "id": "61655c9b",
      "metadata": {
        "id": "61655c9b"
      },
      "source": [
        "### EDA Sumamrized"
      ]
    },
    {
      "cell_type": "markdown",
      "id": "ee26f62b",
      "metadata": {
        "id": "ee26f62b"
      },
      "source": [
        "- More than twice the number of cases were certified than denied irrespective of the number of employees in the employer's organization & the year of establishment of the employer's organization. These attributes are hence, not thought to have an impact on case statuses\n",
        "   - Both these attrtibutes are heavily skewed, the no_of_employees is skewed right but yr_of_estab is skewed left\n",
        "   - From the EDA, we infer 58% of all cases were for smaller organizations (<2500 employees) and 61% of all cases were for employer's established after 1990\n",
        "  \n",
        "  \n",
        "- Only 35% of the cases were certified when the unit_of_wage is Hour-ly but 70% were certified when the unit_of_wage are not Hour-ly (i.e, Week-ly, Month-ly or Year-ly). This indicates unit_of_wage is an important attribute that can influence case statuses\n",
        "  - From the EDA, we infer only 8.5% of all cases were for unit_of_wage Hour-ly and the remaining 91.5% of all cases were for unit_of_wage not Hour-ly (i.e, Week-ly, Month-ly or Year-ly)\n",
        "    \n",
        "    \n",
        "- Majority of cases are from applicants in Asia (66%), then Europe (15%), N.America (13%) & S.America (3%); however, cases getting certified is highest for Europe (80% of such cases), then Africa (72% of such cases), then Asia (65% of such cases), .. & least for S.America & N.America (around 60% of such cases). More cases are certified than denied irrespective of the continent. Being from Europe is though to be an important attribute to have an impact on case statuses\n",
        "\n",
        "\n",
        "- Majority of applicants have a bachelor's (40%) or a master's degree (37.87%). A small number have only high school certification (13.4%) or are very highly educated/ doctorate (8.6%). However, cases getting certified is highest for doctorate degree (>86%),followed by master degree (>76%), then bachelor's (~62%). The cases getting certified is very low for those applicants with only a high school certification (<35%). The trend observed is intuitive and one can expect attributes having a doctorate degress & having only a high school certification to significantly contribute to a case being certified and denied respectively\n",
        "\n",
        "\n",
        "- From the EDA, we infer that 58% of all applicants have prior job experience and 42% do not. The cases getting certified is high for applicants with prior job experience (75% of such cases) and low for applicants without prior job experience (~56% of such cases). This is again an important attribute with an applicant having prior job experience significantly contributing to a case being certified\n",
        "\n",
        "\n",
        "- Majority do not require the employee to receive any additional job training. This attribute was not found to have an impact on the case statuses\n",
        "\n",
        "\n",
        "- Majority of the applications are to Northeast (28.3%), then South (27.5%), then West (25.8%), Midwest (16.9%) and least to Island (1.5%) regions of the US. However, the cases certified follows the trend Midwest (75% of such cases), then South (70% of such cases), then Northeast, West, & Island (60% of such cases). Region of employment being Midwest hence is an important attribute contributing positively to a case being certified\n",
        "\n",
        "\n",
        "- Majority of the jobs are full time rather than part time. This attribute was not found to have an impact on the case statuses"
      ]
    },
    {
      "cell_type": "markdown",
      "id": "0c191fdd",
      "metadata": {
        "id": "0c191fdd"
      },
      "source": [
        "### Split the dataset"
      ]
    },
    {
      "cell_type": "code",
      "execution_count": null,
      "id": "0abd2cef",
      "metadata": {
        "id": "0abd2cef"
      },
      "outputs": [],
      "source": [
        "data[\"case_status\"] = data[\"case_status\"].apply(lambda x: 0 if x == \"Denied\" else 1)"
      ]
    },
    {
      "cell_type": "code",
      "execution_count": null,
      "id": "d95de851",
      "metadata": {
        "id": "d95de851"
      },
      "outputs": [],
      "source": [
        "#Separating features and the target column\n",
        "X = data.drop(\"case_status\", axis=1)\n",
        "y = data[\"case_status\"]"
      ]
    },
    {
      "cell_type": "code",
      "execution_count": null,
      "id": "dc11943d",
      "metadata": {
        "id": "dc11943d"
      },
      "outputs": [],
      "source": [
        "X = pd.get_dummies(X, drop_first=True)"
      ]
    },
    {
      "cell_type": "code",
      "execution_count": null,
      "id": "e7eed82b",
      "metadata": {
        "id": "e7eed82b"
      },
      "outputs": [],
      "source": [
        "#Splitting the data into train and test sets in 70:30 ratio\n",
        "X_train, X_test, y_train, y_test = train_test_split(X, y, test_size=0.30, random_state=1, stratify=y)"
      ]
    },
    {
      "cell_type": "code",
      "execution_count": null,
      "id": "9d74407d",
      "metadata": {
        "colab": {
          "base_uri": "https://localhost:8080/"
        },
        "id": "9d74407d",
        "outputId": "382d814b-09ba-4a43-8aaf-fb9bbaa955ab"
      },
      "outputs": [
        {
          "output_type": "execute_result",
          "data": {
            "text/plain": [
              "((17812, 20), (7635, 20))"
            ]
          },
          "metadata": {},
          "execution_count": 56
        }
      ],
      "source": [
        "X_train.shape, X_test.shape"
      ]
    },
    {
      "cell_type": "markdown",
      "id": "607519f6",
      "metadata": {
        "id": "607519f6"
      },
      "source": [
        "- We have 17,812 and 7,635 rows in the train and test datasets"
      ]
    },
    {
      "cell_type": "code",
      "execution_count": null,
      "id": "0bd4bafe",
      "metadata": {
        "colab": {
          "base_uri": "https://localhost:8080/"
        },
        "id": "0bd4bafe",
        "outputId": "f422623f-7bdb-4305-cce2-4a5eee24820b"
      },
      "outputs": [
        {
          "output_type": "execute_result",
          "data": {
            "text/plain": [
              "1    0.668094\n",
              "0    0.331906\n",
              "Name: case_status, dtype: float64"
            ]
          },
          "metadata": {},
          "execution_count": 57
        }
      ],
      "source": [
        "y.value_counts(1)"
      ]
    },
    {
      "cell_type": "code",
      "execution_count": null,
      "id": "9dd06077",
      "metadata": {
        "colab": {
          "base_uri": "https://localhost:8080/"
        },
        "id": "9dd06077",
        "outputId": "c81a54bb-de18-4e66-d5da-4e0448632b45"
      },
      "outputs": [
        {
          "output_type": "execute_result",
          "data": {
            "text/plain": [
              "1    0.668089\n",
              "0    0.331911\n",
              "Name: case_status, dtype: float64"
            ]
          },
          "metadata": {},
          "execution_count": 58
        }
      ],
      "source": [
        "y_train.value_counts(1)"
      ]
    },
    {
      "cell_type": "code",
      "execution_count": null,
      "id": "8583bf51",
      "metadata": {
        "colab": {
          "base_uri": "https://localhost:8080/"
        },
        "id": "8583bf51",
        "outputId": "2794d179-ea9f-4b9d-a706-28a05cd4b10b"
      },
      "outputs": [
        {
          "output_type": "execute_result",
          "data": {
            "text/plain": [
              "1    0.668107\n",
              "0    0.331893\n",
              "Name: case_status, dtype: float64"
            ]
          },
          "metadata": {},
          "execution_count": 59
        }
      ],
      "source": [
        "y_test.value_counts(1)"
      ]
    },
    {
      "cell_type": "markdown",
      "id": "3b9f8732",
      "metadata": {
        "id": "3b9f8732"
      },
      "source": [
        "- Stratify has maintained the distribution of classes when splitting to a train and test dataset"
      ]
    },
    {
      "cell_type": "markdown",
      "id": "dfbd8c15",
      "metadata": {
        "id": "dfbd8c15"
      },
      "source": [
        "### Model evaluation criterion\n",
        "\n",
        "The model can make wrong predictions as:\n",
        "   - Certifying a case when the required criteria are not met\n",
        "   - Denying a case when the required criteria are met\n",
        "\n",
        "### Which case is more important?\n",
        "   - If cases where criteria are not met are certified, it could have an adverse impact leading to job loss for citizens and locals in the US as well, the foreign workers will be hired at less than ideal pay for market rate & their calibre\n",
        "   - If cases are denied where criteria are met, it could also have an adverse impact leading to human resource shortages across occupations in the US, slowing down the economy\n",
        "\n",
        "### Which metric to optimize?\n",
        "   - We would want F1-Score to be maximized, the greater the F1-Score higher the chances of predicting both the classes correctly"
      ]
    },
    {
      "cell_type": "markdown",
      "id": "afdcf24f",
      "metadata": {
        "id": "afdcf24f"
      },
      "source": [
        "#### Functions to calculate performance metrics and create confusion matrix for different models"
      ]
    },
    {
      "cell_type": "code",
      "execution_count": null,
      "id": "a76b1b2a",
      "metadata": {
        "id": "a76b1b2a"
      },
      "outputs": [],
      "source": [
        "# defining a function to compute different metrics to check performance of a classification model built using sklearn\n",
        "def model_performance_classification_sklearn(model, predictors, target):\n",
        "    \"\"\"\n",
        "    Function to compute different metrics to check classification model performance\n",
        "\n",
        "    model: classifier\n",
        "    predictors: independent variables\n",
        "    target: dependent variable\n",
        "    \"\"\"\n",
        "\n",
        "    # predicting using the independent variables\n",
        "    pred = model.predict(predictors)\n",
        "\n",
        "    acc = accuracy_score(target, pred)  # to compute Accuracy\n",
        "    recall = recall_score(target, pred)  # to compute Recall\n",
        "    precision = precision_score(target, pred)  # to compute Precision\n",
        "    f1 = f1_score(target, pred)  # to compute F1-score\n",
        "\n",
        "    # creating a dataframe of metrics\n",
        "    df_perf = pd.DataFrame(\n",
        "        {\n",
        "            \"Accuracy\": acc,\n",
        "            \"Recall\": recall,\n",
        "            \"Precision\": precision,\n",
        "            \"F1\": f1,\n",
        "        },\n",
        "        index=[0],\n",
        "    )\n",
        "\n",
        "    return df_perf"
      ]
    },
    {
      "cell_type": "code",
      "execution_count": null,
      "id": "f3dba88c",
      "metadata": {
        "id": "f3dba88c"
      },
      "outputs": [],
      "source": [
        "def confusion_matrix_sklearn(model, predictors, target):\n",
        "    \"\"\"\n",
        "    To plot the confusion_matrix with percentages\n",
        "\n",
        "    model: classifier\n",
        "    predictors: independent variables\n",
        "    target: dependent variable\n",
        "    \"\"\"\n",
        "    y_pred = model.predict(predictors)\n",
        "    cm = confusion_matrix(target, y_pred)\n",
        "    labels = np.asarray(\n",
        "        [\n",
        "            [\"{0:0.0f}\".format(item) + \"\\n{0:.2%}\".format(item / cm.flatten().sum())]\n",
        "            for item in cm.flatten()\n",
        "        ]\n",
        "    ).reshape(2, 2)\n",
        "\n",
        "    plt.figure(figsize=(6, 4))\n",
        "    sns.heatmap(cm, annot=labels, fmt=\"\")\n",
        "    plt.ylabel(\"True label\")\n",
        "    plt.xlabel(\"Predicted label\")"
      ]
    },
    {
      "cell_type": "markdown",
      "id": "b8083ceb",
      "metadata": {
        "id": "b8083ceb"
      },
      "source": [
        "### Decision Tree Classifier"
      ]
    },
    {
      "cell_type": "code",
      "execution_count": null,
      "id": "b9ec4a4b",
      "metadata": {
        "colab": {
          "base_uri": "https://localhost:8080/",
          "height": 383
        },
        "id": "b9ec4a4b",
        "outputId": "dc3d83c9-f57c-41be-f508-60bba3a2c355"
      },
      "outputs": [
        {
          "output_type": "stream",
          "name": "stdout",
          "text": [
            "Training performance:\n",
            "    Accuracy  Recall  Precision   F1\n",
            "0       1.0     1.0        1.0  1.0\n",
            "Testing performance:\n",
            "    Accuracy    Recall  Precision        F1\n",
            "0  0.661559  0.743384   0.748372  0.745869\n"
          ]
        },
        {
          "output_type": "display_data",
          "data": {
            "text/plain": [
              "<Figure size 432x288 with 2 Axes>"
            ],
            "image/png": "[encoded data removed]"
          },
          "metadata": {
            "needs_background": "light"
          }
        }
      ],
      "source": [
        "#Fitting the model\n",
        "d_tree = DecisionTreeClassifier(random_state=1)\n",
        "d_tree.fit(X_train,y_train)\n",
        "\n",
        "#Calculating different metrics\n",
        "d_tree_model_train_perf=model_performance_classification_sklearn(d_tree,X_train,y_train)\n",
        "print(\"Training performance:\\n\",d_tree_model_train_perf)\n",
        "d_tree_model_test_perf=model_performance_classification_sklearn(d_tree,X_test,y_test)\n",
        "print(\"Testing performance:\\n\",d_tree_model_test_perf)\n",
        "\n",
        "#Creating confusion matrix\n",
        "confusion_matrix_sklearn(d_tree,X_test,y_test)"
      ]
    },
    {
      "cell_type": "markdown",
      "id": "bfdd0eb4",
      "metadata": {
        "id": "bfdd0eb4"
      },
      "source": [
        "- The decision tree is overfitting the training data. Training metrics are high but the testing metrics are not. F1_score for the test set is only 0.75. We can improve model performance by hyperparameter tuning"
      ]
    },
    {
      "cell_type": "markdown",
      "id": "223afe90",
      "metadata": {
        "id": "223afe90"
      },
      "source": [
        "### Decision Tree - Hyperparameter tuning"
      ]
    },
    {
      "cell_type": "code",
      "execution_count": null,
      "id": "cbd3cf48",
      "metadata": {
        "colab": {
          "base_uri": "https://localhost:8080/"
        },
        "id": "cbd3cf48",
        "outputId": "27121222-a338-4ccd-e3aa-d2ba9f48bf46"
      },
      "outputs": [
        {
          "output_type": "execute_result",
          "data": {
            "text/plain": [
              "DecisionTreeClassifier(class_weight={0: 0.668, 1: 0.332}, max_depth=2,\n",
              "                       max_leaf_nodes=2, min_impurity_decrease=0.0001,\n",
              "                       random_state=1)"
            ]
          },
          "metadata": {},
          "execution_count": 63
        }
      ],
      "source": [
        "#Choose the type of classifier.\n",
        "dtree_estimator = DecisionTreeClassifier(class_weight={0:0.668,1:0.332},random_state=1)\n",
        "\n",
        "# Grid of parameters to choose from\n",
        "parameters = {'max_depth': np.arange(2,30),\n",
        "              'min_samples_leaf': [1, 2, 5, 7, 10],\n",
        "              'max_leaf_nodes' : [2, 3, 5, 10,15],\n",
        "              'min_impurity_decrease': [0.0001,0.001,0.01,0.1]\n",
        "             }\n",
        "\n",
        "# Type of scoring used to compare parameter combinations\n",
        "scorer = metrics.make_scorer(metrics.f1_score)\n",
        "\n",
        "# Run the grid search\n",
        "grid_obj = GridSearchCV(dtree_estimator, parameters, scoring=scorer,n_jobs=-1)\n",
        "grid_obj = grid_obj.fit(X_train, y_train)\n",
        "\n",
        "# Set the clf to the best combination of parameters\n",
        "dtree_estimator = grid_obj.best_estimator_\n",
        "\n",
        "# Fit the best algorithm to the data.\n",
        "dtree_estimator.fit(X_train, y_train)"
      ]
    },
    {
      "cell_type": "code",
      "execution_count": null,
      "id": "75e0a51e",
      "metadata": {
        "id": "75e0a51e",
        "outputId": "aa20e1f2-c784-45e3-c981-f415614f6695"
      },
      "outputs": [
        {
          "name": "stdout",
          "output_type": "stream",
          "text": [
            "Training performance:\n",
            "    Accuracy    Recall  Precision        F1\n",
            "0  0.711599  0.932605   0.719108  0.812059\n",
            "Testing performance:\n",
            "    Accuracy    Recall  Precision        F1\n",
            "0  0.709103  0.929034   0.718248  0.810155\n"
          ]
        },
        {
          "data": {
            "image/png": "[encoded data removed]",
            "text/plain": [
              "<Figure size 432x288 with 2 Axes>"
            ]
          },
          "metadata": {
            "needs_background": "light"
          },
          "output_type": "display_data"
        }
      ],
      "source": [
        "#Calculating different metrics\n",
        "dtree_estimator_model_train_perf=model_performance_classification_sklearn(dtree_estimator,X_train,y_train)\n",
        "print(\"Training performance:\\n\",dtree_estimator_model_train_perf)\n",
        "dtree_estimator_model_test_perf=model_performance_classification_sklearn(dtree_estimator,X_test,y_test)\n",
        "print(\"Testing performance:\\n\",dtree_estimator_model_test_perf)\n",
        "\n",
        "#Creating confusion matrix\n",
        "confusion_matrix_sklearn(dtree_estimator,X_test,y_test)"
      ]
    },
    {
      "cell_type": "markdown",
      "id": "7748cfa4",
      "metadata": {
        "id": "7748cfa4"
      },
      "source": [
        "- The hyperparameter tuned decision tree is not overfiting the dataset, as well the F1 score has improved. F1 score for both the train and test datasets are 0.812 & 0.810 respectively"
      ]
    },
    {
      "cell_type": "markdown",
      "id": "27a41d3a",
      "metadata": {
        "id": "27a41d3a"
      },
      "source": [
        "### Random Forest Classifier"
      ]
    },
    {
      "cell_type": "code",
      "execution_count": null,
      "id": "9b327010",
      "metadata": {
        "id": "9b327010",
        "outputId": "30dd7e70-d2ce-4df4-bbf4-f227018ef807"
      },
      "outputs": [
        {
          "name": "stdout",
          "output_type": "stream",
          "text": [
            "Training performance:\n",
            "    Accuracy    Recall  Precision        F1\n",
            "0  0.999832  0.999916   0.999832  0.999874\n",
            "Testing performance:\n",
            "    Accuracy    Recall  Precision        F1\n",
            "0  0.676621  0.760047   0.756931  0.758486\n"
          ]
        },
        {
          "data": {
            "image/png": "[encoded data removed]",
            "text/plain": [
              "<Figure size 432x288 with 2 Axes>"
            ]
          },
          "metadata": {
            "needs_background": "light"
          },
          "output_type": "display_data"
        }
      ],
      "source": [
        "#Fitting the model\n",
        "rf_estimator = RandomForestClassifier(random_state=1)\n",
        "rf_estimator.fit(X_train,y_train)\n",
        "\n",
        "#Calculating different metrics\n",
        "rf_estimator_model_train_perf=model_performance_classification_sklearn(rf_estimator,X_train,y_train)\n",
        "print(\"Training performance:\\n\",rf_estimator_model_train_perf)\n",
        "rf_estimator_model_test_perf=model_performance_classification_sklearn(rf_estimator,X_test,y_test)\n",
        "print(\"Testing performance:\\n\",rf_estimator_model_test_perf)\n",
        "\n",
        "#Creating confusion matrix\n",
        "confusion_matrix_sklearn(rf_estimator,X_test,y_test)"
      ]
    },
    {
      "cell_type": "markdown",
      "id": "6f06945b",
      "metadata": {
        "id": "6f06945b"
      },
      "source": [
        "- Random forest model is also overfitting the training data"
      ]
    },
    {
      "cell_type": "markdown",
      "id": "e84679f3",
      "metadata": {
        "id": "e84679f3"
      },
      "source": [
        "### Random Forest - Hyperparameter tuning"
      ]
    },
    {
      "cell_type": "code",
      "execution_count": null,
      "id": "c70b1ada",
      "metadata": {
        "id": "c70b1ada",
        "outputId": "72883d8e-7c6b-4898-f40b-8213f104b137"
      },
      "outputs": [
        {
          "data": {
            "text/plain": [
              "RandomForestClassifier(class_weight={0: 0.668, 1: 0.332}, max_depth=10,\n",
              "                       max_features='sqrt', min_samples_leaf=5,\n",
              "                       min_samples_split=15, oob_score=True, random_state=1)"
            ]
          },
          "execution_count": 67,
          "metadata": {},
          "output_type": "execute_result"
        }
      ],
      "source": [
        "# Choose the type of classifier.\n",
        "rf_tuned = RandomForestClassifier(class_weight={0:0.668,1:0.332},random_state=1,oob_score=True,bootstrap=True)\n",
        "\n",
        "parameters = {\n",
        "                'max_depth': list(np.arange(10,30,10)) + [None],\n",
        "                'max_features': ['sqrt',None],\n",
        "                'min_samples_leaf': np.arange(5,15,5),\n",
        "                'min_samples_split': np.arange(5, 20, 5),\n",
        "                'n_estimators': np.arange(20,120,40)}\n",
        "\n",
        "\n",
        "# Type of scoring used to compare parameter combinations\n",
        "scorer = metrics.make_scorer(metrics.f1_score)\n",
        "\n",
        "# Run the grid search\n",
        "grid_obj = GridSearchCV(rf_tuned, parameters, scoring=scorer, cv=3,n_jobs=-1)\n",
        "grid_obj = grid_obj.fit(X_train, y_train)\n",
        "\n",
        "# Set the clf to the best combination of parameters\n",
        "rf_tuned = grid_obj.best_estimator_\n",
        "\n",
        "# Fit the best algorithm to the data.\n",
        "rf_tuned.fit(X_train, y_train)"
      ]
    },
    {
      "cell_type": "code",
      "execution_count": null,
      "id": "20b722c7",
      "metadata": {
        "id": "20b722c7",
        "outputId": "fb976b11-eec5-452f-aee6-cfc5e353c27b"
      },
      "outputs": [
        {
          "name": "stdout",
          "output_type": "stream",
          "text": [
            "Training performance:\n",
            "    Accuracy   Recall  Precision       F1\n",
            "0  0.745789  0.77958   0.829637  0.80383\n",
            "Testing performance:\n",
            "    Accuracy    Recall  Precision        F1\n",
            "0  0.724951  0.761419   0.814768  0.787191\n"
          ]
        },
        {
          "data": {
            "image/png": "[encoded data removed]",
            "text/plain": [
              "<Figure size 432x288 with 2 Axes>"
            ]
          },
          "metadata": {
            "needs_background": "light"
          },
          "output_type": "display_data"
        }
      ],
      "source": [
        "#Calculating different metrics\n",
        "rf_tuned_model_train_perf=model_performance_classification_sklearn(rf_tuned,X_train,y_train)\n",
        "print(\"Training performance:\\n\",rf_tuned_model_train_perf)\n",
        "rf_tuned_model_test_perf=model_performance_classification_sklearn(rf_tuned,X_test,y_test)\n",
        "print(\"Testing performance:\\n\",rf_tuned_model_test_perf)\n",
        "\n",
        "#Creating confusion matrix\n",
        "confusion_matrix_sklearn(rf_tuned,X_test,y_test)"
      ]
    },
    {
      "cell_type": "markdown",
      "id": "b36e2b95",
      "metadata": {
        "id": "b36e2b95"
      },
      "source": [
        "- Hyperparameter tuning has decreased the overfit and increased F1 score, however, this model is not performing as optimally as the hyperparameter tuned decision tree"
      ]
    },
    {
      "cell_type": "markdown",
      "id": "2041cb79",
      "metadata": {
        "id": "2041cb79"
      },
      "source": [
        "### Bagging Classifier"
      ]
    },
    {
      "cell_type": "code",
      "execution_count": null,
      "id": "aa181ed4",
      "metadata": {
        "id": "aa181ed4",
        "outputId": "d04fc05f-8ede-41f9-b122-d40b6ed78ed6"
      },
      "outputs": [
        {
          "name": "stdout",
          "output_type": "stream",
          "text": [
            "Training performance:\n",
            "    Accuracy    Recall  Precision        F1\n",
            "0  0.977824  0.978655   0.988038  0.983324\n",
            "Testing performance:\n",
            "    Accuracy    Recall  Precision        F1\n",
            "0  0.688016  0.757106   0.771628  0.764298\n"
          ]
        },
        {
          "data": {
            "image/png": "[encoded data removed]",
            "text/plain": [
              "<Figure size 432x288 with 2 Axes>"
            ]
          },
          "metadata": {
            "needs_background": "light"
          },
          "output_type": "display_data"
        }
      ],
      "source": [
        "#Fitting the model\n",
        "bagging_classifier = BaggingClassifier(random_state=1)\n",
        "bagging_classifier.fit(X_train,y_train)\n",
        "\n",
        "#Calculating different metrics\n",
        "bagging_classifier_model_train_perf=model_performance_classification_sklearn(bagging_classifier,X_train,y_train)\n",
        "print(\"Training performance:\\n\", bagging_classifier_model_train_perf)\n",
        "bagging_classifier_model_test_perf=model_performance_classification_sklearn(bagging_classifier,X_test,y_test)\n",
        "print(\"Testing performance:\\n\", bagging_classifier_model_test_perf)\n",
        "\n",
        "#Creating confusion matrix\n",
        "confusion_matrix_sklearn(bagging_classifier,X_test,y_test)"
      ]
    },
    {
      "cell_type": "markdown",
      "id": "9a16726e",
      "metadata": {
        "id": "9a16726e"
      },
      "source": [
        "- Bagging classifier is also overfiting the training data"
      ]
    },
    {
      "cell_type": "markdown",
      "id": "4b84ba08",
      "metadata": {
        "id": "4b84ba08"
      },
      "source": [
        "### Bagging - Hyperparameter Tuning"
      ]
    },
    {
      "cell_type": "code",
      "execution_count": null,
      "id": "dc1910c3",
      "metadata": {
        "id": "dc1910c3",
        "outputId": "87e0b655-d718-44f5-9067-2e834de6b559"
      },
      "outputs": [
        {
          "data": {
            "text/plain": [
              "BaggingClassifier(max_features=0.7, max_samples=0.7, n_estimators=50,\n",
              "                  random_state=1)"
            ]
          },
          "execution_count": 70,
          "metadata": {},
          "output_type": "execute_result"
        }
      ],
      "source": [
        "# Choose the type of classifier.\n",
        "bagging_estimator_tuned = BaggingClassifier(random_state=1)\n",
        "\n",
        "# Grid of parameters to choose from\n",
        "parameters = {'max_samples': [0.7,0.8,0.9,1],\n",
        "              'max_features': [0.7,0.8,0.9,1],\n",
        "              'n_estimators' : [10,20,30,40,50],\n",
        "             }\n",
        "\n",
        "# Type of scoring used to compare parameter combinations\n",
        "scorer = metrics.make_scorer(metrics.f1_score)\n",
        "\n",
        "# Run the grid search\n",
        "grid_obj = GridSearchCV(bagging_estimator_tuned, parameters, scoring=scorer,cv=5)\n",
        "grid_obj = grid_obj.fit(X_train, y_train)\n",
        "\n",
        "# Set the clf to the best combination of parameters\n",
        "bagging_estimator_tuned = grid_obj.best_estimator_\n",
        "\n",
        "# Fit the best algorithm to the data.\n",
        "bagging_estimator_tuned.fit(X_train, y_train)"
      ]
    },
    {
      "cell_type": "code",
      "execution_count": null,
      "id": "e8bc944d",
      "metadata": {
        "id": "e8bc944d",
        "outputId": "0e411484-b94a-4fda-f8cc-e721472633c8"
      },
      "outputs": [
        {
          "name": "stdout",
          "output_type": "stream",
          "text": [
            "Training performance:\n",
            "    Accuracy    Recall  Precision        F1\n",
            "0  0.956041  0.993697   0.943509  0.967953\n",
            "Testing performance:\n",
            "    Accuracy    Recall  Precision        F1\n",
            "0  0.728225  0.877475   0.755316  0.811826\n"
          ]
        },
        {
          "data": {
            "image/png": "[encoded data removed]",
            "text/plain": [
              "<Figure size 432x288 with 2 Axes>"
            ]
          },
          "metadata": {
            "needs_background": "light"
          },
          "output_type": "display_data"
        }
      ],
      "source": [
        "#Calculating different metrics\n",
        "bagging_estimator_tuned_model_train_perf=model_performance_classification_sklearn(bagging_estimator_tuned,X_train,y_train)\n",
        "print(\"Training performance:\\n\", bagging_estimator_tuned_model_train_perf)\n",
        "bagging_estimator_tuned_model_test_perf=model_performance_classification_sklearn(bagging_estimator_tuned,X_test,y_test)\n",
        "print(\"Testing performance:\\n\", bagging_estimator_tuned_model_test_perf)\n",
        "\n",
        "#Creating confusion matrix\n",
        "confusion_matrix_sklearn(bagging_estimator_tuned,X_test,y_test)"
      ]
    },
    {
      "cell_type": "markdown",
      "id": "1f954e64",
      "metadata": {
        "id": "1f954e64"
      },
      "source": [
        "- The model is still found to overfit the training data, as the training metrics are high but the testing metrics are not"
      ]
    },
    {
      "cell_type": "markdown",
      "id": "69efd709",
      "metadata": {
        "id": "69efd709"
      },
      "source": [
        "### AdaBoost Classifier"
      ]
    },
    {
      "cell_type": "code",
      "execution_count": null,
      "id": "38e504e6",
      "metadata": {
        "id": "38e504e6",
        "outputId": "1829b017-6d0a-4792-89cb-3145b18614bd"
      },
      "outputs": [
        {
          "name": "stdout",
          "output_type": "stream",
          "text": [
            "Training performance:\n",
            "    Accuracy    Recall  Precision        F1\n",
            "0  0.738322  0.888151   0.760414  0.819334\n",
            "Testing performance:\n",
            "    Accuracy    Recall  Precision        F1\n",
            "0   0.73556  0.877671   0.762432  0.816003\n"
          ]
        },
        {
          "data": {
            "image/png": "[encoded data removed]",
            "text/plain": [
              "<Figure size 432x288 with 2 Axes>"
            ]
          },
          "metadata": {
            "needs_background": "light"
          },
          "output_type": "display_data"
        }
      ],
      "source": [
        "#Fitting the model\n",
        "ab_classifier = AdaBoostClassifier(random_state=1)\n",
        "ab_classifier.fit(X_train,y_train)\n",
        "\n",
        "#Calculating different metrics\n",
        "ab_classifier_model_train_perf=model_performance_classification_sklearn(ab_classifier,X_train,y_train)\n",
        "print(\"Training performance:\\n\", ab_classifier_model_train_perf)\n",
        "ab_classifier_model_test_perf=model_performance_classification_sklearn(ab_classifier,X_test,y_test)\n",
        "print(\"Testing performance:\\n\", ab_classifier_model_test_perf)\n",
        "\n",
        "#Creating confusion matrix\n",
        "confusion_matrix_sklearn(ab_classifier,X_test,y_test)"
      ]
    },
    {
      "cell_type": "markdown",
      "id": "1aaa247e",
      "metadata": {
        "id": "1aaa247e"
      },
      "source": [
        "- Unlike the decision tree, random forest, or the bagging classifier; the AdaBoost classifier is not found to overfit the training data. It is giving a generalized performance on the training & testing data with a F1 score 0.819 & 0.816"
      ]
    },
    {
      "cell_type": "markdown",
      "id": "5a3f6c2a",
      "metadata": {
        "id": "5a3f6c2a"
      },
      "source": [
        "### AdaBoost - Hyperparamter tuning"
      ]
    },
    {
      "cell_type": "code",
      "execution_count": null,
      "id": "1c4eae2b",
      "metadata": {
        "id": "1c4eae2b",
        "outputId": "11f88775-efea-4ec4-e5ef-ffc1f929622d"
      },
      "outputs": [
        {
          "data": {
            "text/plain": [
              "AdaBoostClassifier(base_estimator=DecisionTreeClassifier(max_depth=2),\n",
              "                   learning_rate=0.2, n_estimators=60, random_state=1)"
            ]
          },
          "execution_count": 73,
          "metadata": {},
          "output_type": "execute_result"
        }
      ],
      "source": [
        "# Choose the type of classifier.\n",
        "abc_tuned = AdaBoostClassifier(random_state=1)\n",
        "\n",
        "# Grid of parameters to choose from\n",
        "parameters = {\n",
        "    #Let's try different max_depth for base_estimator\n",
        "    \"base_estimator\":[DecisionTreeClassifier(max_depth=1),\n",
        "                      DecisionTreeClassifier(max_depth=2)],\n",
        "    \"n_estimators\": np.arange(20,120,40),\n",
        "    \"learning_rate\":np.arange(0.2,2,0.6)\n",
        "}\n",
        "\n",
        "# Type of scoring used to compare parameter  combinations\n",
        "scorer = metrics.make_scorer(metrics.f1_score)\n",
        "\n",
        "# Run the grid search\n",
        "grid_obj = GridSearchCV(abc_tuned, parameters, scoring=scorer,cv=3)\n",
        "grid_obj = grid_obj.fit(X_train, y_train)\n",
        "\n",
        "# Set the clf to the best combination of parameters\n",
        "abc_tuned = grid_obj.best_estimator_\n",
        "\n",
        "# Fit the best algorithm to the data.\n",
        "abc_tuned.fit(X_train, y_train)"
      ]
    },
    {
      "cell_type": "code",
      "execution_count": null,
      "id": "96fd3d85",
      "metadata": {
        "id": "96fd3d85",
        "outputId": "c99262be-d2d4-486c-cdc9-67ebe10e4429"
      },
      "outputs": [
        {
          "name": "stdout",
          "output_type": "stream",
          "text": [
            "Training performance:\n",
            "    Accuracy    Recall  Precision        F1\n",
            "0   0.74927  0.870252   0.779937  0.822623\n",
            "Testing performance:\n",
            "    Accuracy    Recall  Precision       F1\n",
            "0  0.745514  0.861596   0.780362  0.81897\n"
          ]
        },
        {
          "data": {
            "image/png": "[encoded data removed]",
            "text/plain": [
              "<Figure size 432x288 with 2 Axes>"
            ]
          },
          "metadata": {
            "needs_background": "light"
          },
          "output_type": "display_data"
        }
      ],
      "source": [
        "#Calculating different metrics\n",
        "abc_tuned_model_train_perf=model_performance_classification_sklearn(abc_tuned,X_train,y_train)\n",
        "print(\"Training performance:\\n\", abc_tuned_model_train_perf)\n",
        "abc_tuned_model_test_perf=model_performance_classification_sklearn(abc_tuned,X_test,y_test)\n",
        "print(\"Testing performance:\\n\", abc_tuned_model_test_perf)\n",
        "\n",
        "#Creating confusion matrix\n",
        "confusion_matrix_sklearn(abc_tuned,X_test,y_test)"
      ]
    },
    {
      "cell_type": "markdown",
      "id": "90844252",
      "metadata": {
        "id": "90844252"
      },
      "source": [
        "- The hyperparameter tuned model is giving similar performance to the default AdaBoost model"
      ]
    },
    {
      "cell_type": "markdown",
      "id": "c438c8a7",
      "metadata": {
        "id": "c438c8a7"
      },
      "source": [
        "### Gradient Boosting Classifier"
      ]
    },
    {
      "cell_type": "code",
      "execution_count": null,
      "id": "161ac19a",
      "metadata": {
        "id": "161ac19a",
        "outputId": "cef4adba-ddd7-4fb1-ae15-22d4d22ae0e9"
      },
      "outputs": [
        {
          "name": "stdout",
          "output_type": "stream",
          "text": [
            "Training performance:\n",
            "    Accuracy    Recall  Precision        F1\n",
            "0  0.755839  0.875882   0.783979  0.827386\n",
            "Testing performance:\n",
            "    Accuracy    Recall  Precision        F1\n",
            "0  0.748527  0.865517   0.781554  0.821395\n"
          ]
        },
        {
          "data": {
            "image/png": "[encoded data removed]",
            "text/plain": [
              "<Figure size 432x288 with 2 Axes>"
            ]
          },
          "metadata": {
            "needs_background": "light"
          },
          "output_type": "display_data"
        }
      ],
      "source": [
        "#Fitting the model\n",
        "gb_classifier = GradientBoostingClassifier(random_state=1)\n",
        "gb_classifier.fit(X_train,y_train)\n",
        "\n",
        "#Calculating different metrics\n",
        "gb_classifier_model_train_perf=model_performance_classification_sklearn(gb_classifier,X_train,y_train)\n",
        "print(\"Training performance:\\n\",gb_classifier_model_train_perf)\n",
        "gb_classifier_model_test_perf=model_performance_classification_sklearn(gb_classifier,X_test,y_test)\n",
        "print(\"Testing performance:\\n\",gb_classifier_model_test_perf)\n",
        "\n",
        "#Creating confusion matrix\n",
        "confusion_matrix_sklearn(gb_classifier,X_test,y_test)"
      ]
    },
    {
      "cell_type": "markdown",
      "id": "4f17a7c8",
      "metadata": {
        "id": "4f17a7c8"
      },
      "source": [
        "- The gradient boosting model is giving generalized performance on both the training and testing data with very high F1 scores of 0.827 and 0.821 respectively"
      ]
    },
    {
      "cell_type": "markdown",
      "id": "ff3c105c",
      "metadata": {
        "id": "ff3c105c"
      },
      "source": [
        "### Gradient Boosting - Hyperparameter Tuning"
      ]
    },
    {
      "cell_type": "code",
      "execution_count": null,
      "id": "4ec2bf30",
      "metadata": {
        "id": "4ec2bf30",
        "outputId": "35360047-dbce-460c-b40f-34e4cca31a48"
      },
      "outputs": [
        {
          "data": {
            "text/plain": [
              "GradientBoostingClassifier(init=AdaBoostClassifier(random_state=1),\n",
              "                           max_features=0.8, random_state=1, subsample=0.8)"
            ]
          },
          "execution_count": 76,
          "metadata": {},
          "output_type": "execute_result"
        }
      ],
      "source": [
        "# Choose the type of classifier.\n",
        "gbc_tuned = GradientBoostingClassifier(init=AdaBoostClassifier(random_state=1),random_state=1)\n",
        "\n",
        "# Grid of parameters to choose from\n",
        "parameters = {\n",
        "    \"n_estimators\": [100,175,250],\n",
        "    \"subsample\":[0.8,1],\n",
        "    \"max_features\":[0.8,0.9,1]\n",
        "}\n",
        "\n",
        "# Type of scoring used to compare parameter combinations\n",
        "scorer = metrics.make_scorer(metrics.f1_score)\n",
        "\n",
        "# Run the grid search\n",
        "grid_obj = GridSearchCV(gbc_tuned, parameters, scoring=scorer,cv=3)\n",
        "grid_obj = grid_obj.fit(X_train, y_train)\n",
        "\n",
        "# Set the clf to the best combination of parameters\n",
        "gbc_tuned = grid_obj.best_estimator_\n",
        "\n",
        "# Fit the best algorithm to the data.\n",
        "gbc_tuned.fit(X_train, y_train)"
      ]
    },
    {
      "cell_type": "code",
      "execution_count": null,
      "id": "c7b17303",
      "metadata": {
        "id": "c7b17303",
        "outputId": "092d8fc4-3eb2-4cab-afe4-4a58f3ee9df9"
      },
      "outputs": [
        {
          "name": "stdout",
          "output_type": "stream",
          "text": [
            "Training performance:\n",
            "    Accuracy    Recall  Precision        F1\n",
            "0  0.754379  0.876134   0.782322  0.826575\n",
            "Testing performance:\n",
            "    Accuracy    Recall  Precision        F1\n",
            "0  0.746431  0.865321   0.779446  0.820141\n"
          ]
        },
        {
          "data": {
            "image/png": "[encoded data removed]",
            "text/plain": [
              "<Figure size 432x288 with 2 Axes>"
            ]
          },
          "metadata": {
            "needs_background": "light"
          },
          "output_type": "display_data"
        }
      ],
      "source": [
        "#Calculating different metrics\n",
        "gbc_tuned_model_train_perf=model_performance_classification_sklearn(gbc_tuned,X_train,y_train)\n",
        "print(\"Training performance:\\n\",gbc_tuned_model_train_perf)\n",
        "gbc_tuned_model_test_perf=model_performance_classification_sklearn(gbc_tuned,X_test,y_test)\n",
        "print(\"Testing performance:\\n\",gbc_tuned_model_test_perf)\n",
        "\n",
        "#Creating confusion matrix\n",
        "confusion_matrix_sklearn(gbc_tuned,X_test,y_test)"
      ]
    },
    {
      "cell_type": "markdown",
      "id": "68a24a4f",
      "metadata": {
        "id": "68a24a4f"
      },
      "source": [
        "- There is not much difference in the model performance after hyperparameter tuning"
      ]
    },
    {
      "cell_type": "markdown",
      "id": "555c2ef2",
      "metadata": {
        "id": "555c2ef2"
      },
      "source": [
        "### XGBoost Classifier"
      ]
    },
    {
      "cell_type": "code",
      "execution_count": null,
      "id": "f2e2dbe0",
      "metadata": {
        "id": "f2e2dbe0",
        "outputId": "edee3dfc-542c-481c-aec1-d366aafcf760"
      },
      "outputs": [
        {
          "name": "stdout",
          "output_type": "stream",
          "text": [
            "Training performance:\n",
            "    Accuracy    Recall  Precision      F1\n",
            "0  0.809903  0.914706   0.821138  0.8654\n",
            "Testing performance:\n",
            "    Accuracy    Recall  Precision        F1\n",
            "0  0.737525  0.858851   0.773345  0.813858\n"
          ]
        },
        {
          "data": {
            "image/png": "[encoded data removed]",
            "text/plain": [
              "<Figure size 432x288 with 2 Axes>"
            ]
          },
          "metadata": {
            "needs_background": "light"
          },
          "output_type": "display_data"
        }
      ],
      "source": [
        "#Fitting the model\n",
        "xgb_classifier = XGBClassifier(random_state=1, eval_metric='logloss')\n",
        "xgb_classifier.fit(X_train,y_train)\n",
        "\n",
        "#Calculating different metrics\n",
        "xgb_classifier_model_train_perf=model_performance_classification_sklearn(xgb_classifier,X_train,y_train)\n",
        "print(\"Training performance:\\n\",xgb_classifier_model_train_perf)\n",
        "xgb_classifier_model_test_perf=model_performance_classification_sklearn(xgb_classifier,X_test,y_test)\n",
        "print(\"Testing performance:\\n\",xgb_classifier_model_test_perf)\n",
        "\n",
        "#Creating confusion matrix\n",
        "confusion_matrix_sklearn(xgb_classifier,X_test,y_test)"
      ]
    },
    {
      "cell_type": "markdown",
      "id": "2d40e3cd",
      "metadata": {
        "id": "2d40e3cd"
      },
      "source": [
        "- The XGBoost classifier is slightly overfitting the training data"
      ]
    },
    {
      "cell_type": "markdown",
      "id": "9267bbd9",
      "metadata": {
        "id": "9267bbd9"
      },
      "source": [
        "### XGBoost - Hyperparameter tuning"
      ]
    },
    {
      "cell_type": "code",
      "execution_count": null,
      "id": "bff9629d",
      "metadata": {
        "id": "bff9629d",
        "outputId": "78d6b7c8-56ad-4c84-f8d4-001fff461c31"
      },
      "outputs": [
        {
          "data": {
            "text/plain": [
              "XGBClassifier(base_score=0.5, booster='gbtree', colsample_bylevel=0.5,\n",
              "              colsample_bynode=1, colsample_bytree=0.7, eval_metric='logloss',\n",
              "              gamma=0, gpu_id=-1, importance_type='gain',\n",
              "              interaction_constraints='', learning_rate=0.05, max_delta_step=0,\n",
              "              max_depth=6, min_child_weight=1, missing=nan,\n",
              "              monotone_constraints='()', n_estimators=30, n_jobs=4,\n",
              "              num_parallel_tree=1, random_state=1, reg_alpha=0, reg_lambda=1,\n",
              "              scale_pos_weight=1, subsample=0.9, tree_method='exact',\n",
              "              validate_parameters=1, verbosity=None)"
            ]
          },
          "execution_count": 79,
          "metadata": {},
          "output_type": "execute_result"
        }
      ],
      "source": [
        "# Choose the type of classifier.\n",
        "xgb_tuned = XGBClassifier(random_state=1, eval_metric='logloss')\n",
        "\n",
        "# Grid of parameters to choose from\n",
        "parameters = {\n",
        "    \"n_estimators\": [10,30,50],\n",
        "    \"scale_pos_weight\":[1,2,5],\n",
        "    \"subsample\":[0.7,0.9,1],\n",
        "    \"learning_rate\":[0.05, 0.1,0.2],\n",
        "    \"colsample_bytree\":[0.7,0.9,1],\n",
        "    \"colsample_bylevel\":[0.5,0.7,1]\n",
        "}\n",
        "\n",
        "# Type of scoring used to compare parameter combinations\n",
        "scorer = metrics.make_scorer(metrics.f1_score)\n",
        "\n",
        "# Run the grid search\n",
        "grid_obj = GridSearchCV(xgb_tuned, parameters,scoring=scorer,cv=3)\n",
        "grid_obj = grid_obj.fit(X_train, y_train)\n",
        "\n",
        "# Set the clf to the best combination of parameters\n",
        "xgb_tuned = grid_obj.best_estimator_\n",
        "\n",
        "# Fit the best algorithm to the data.\n",
        "xgb_tuned.fit(X_train, y_train)"
      ]
    },
    {
      "cell_type": "code",
      "execution_count": null,
      "id": "50beb547",
      "metadata": {
        "id": "50beb547",
        "outputId": "5ce74953-a149-4188-89d6-2b5ff6139c70"
      },
      "outputs": [
        {
          "name": "stdout",
          "output_type": "stream",
          "text": [
            "Training performance:\n",
            "    Accuracy    Recall  Precision        F1\n",
            "0  0.753818  0.898739   0.770811  0.829874\n",
            "Testing performance:\n",
            "    Accuracy    Recall  Precision       F1\n",
            "0  0.746955  0.887473   0.769244  0.82414\n"
          ]
        },
        {
          "data": {
            "image/png": "[encoded data removed]",
            "text/plain": [
              "<Figure size 432x288 with 2 Axes>"
            ]
          },
          "metadata": {
            "needs_background": "light"
          },
          "output_type": "display_data"
        }
      ],
      "source": [
        "#Calculating different metrics\n",
        "xgb_tuned_model_train_perf=model_performance_classification_sklearn(xgb_tuned,X_train,y_train)\n",
        "print(\"Training performance:\\n\",xgb_tuned_model_train_perf)\n",
        "xgb_tuned_model_test_perf=model_performance_classification_sklearn(xgb_tuned,X_test,y_test)\n",
        "print(\"Testing performance:\\n\",xgb_tuned_model_test_perf)\n",
        "\n",
        "#Creating confusion matrix\n",
        "confusion_matrix_sklearn(xgb_tuned,X_test,y_test)"
      ]
    },
    {
      "cell_type": "markdown",
      "id": "7512b5d6",
      "metadata": {
        "id": "7512b5d6"
      },
      "source": [
        "- The overfitting has reduced & the model is giving generalized performance on both training & testing data. F1 scores are high with 0.829 and 0.8214 for the training & testing datasets"
      ]
    },
    {
      "cell_type": "markdown",
      "id": "0d8cd524",
      "metadata": {
        "id": "0d8cd524"
      },
      "source": [
        "### Stacking Classifier"
      ]
    },
    {
      "cell_type": "code",
      "execution_count": null,
      "id": "ba744be7",
      "metadata": {
        "id": "ba744be7",
        "outputId": "7a53f658-6f63-4e9e-f6e9-c2b9bfc1f4a9"
      },
      "outputs": [
        {
          "data": {
            "text/plain": [
              "StackingClassifier(estimators=[('Ad Boost Tuned',\n",
              "                                AdaBoostClassifier(base_estimator=DecisionTreeClassifier(max_depth=2),\n",
              "                                                   learning_rate=0.2,\n",
              "                                                   n_estimators=60,\n",
              "                                                   random_state=1)),\n",
              "                               ('Gradient Boost Tuned',\n",
              "                                GradientBoostingClassifier(init=AdaBoostClassifier(random_state=1),\n",
              "                                                           max_features=0.8,\n",
              "                                                           random_state=1,\n",
              "                                                           subsample=0.8)),\n",
              "                               ('Decision Tree Tuned',\n",
              "                                DecisionTreeClassifier(c...\n",
              "                                                 eval_metric='logloss', gamma=0,\n",
              "                                                 gpu_id=-1,\n",
              "                                                 importance_type='gain',\n",
              "                                                 interaction_constraints='',\n",
              "                                                 learning_rate=0.05,\n",
              "                                                 max_delta_step=0, max_depth=6,\n",
              "                                                 min_child_weight=1,\n",
              "                                                 missing=nan,\n",
              "                                                 monotone_constraints='()',\n",
              "                                                 n_estimators=30, n_jobs=4,\n",
              "                                                 num_parallel_tree=1,\n",
              "                                                 random_state=1, reg_alpha=0,\n",
              "                                                 reg_lambda=1,\n",
              "                                                 scale_pos_weight=1,\n",
              "                                                 subsample=0.9,\n",
              "                                                 tree_method='exact',\n",
              "                                                 validate_parameters=1,\n",
              "                                                 verbosity=None))"
            ]
          },
          "execution_count": 81,
          "metadata": {},
          "output_type": "execute_result"
        }
      ],
      "source": [
        "estimators = [('Ad Boost Tuned',abc_tuned), ('Gradient Boost Tuned',gbc_tuned), ('Decision Tree Tuned',dtree_estimator)]\n",
        "\n",
        "final_estimator = xgb_tuned\n",
        "\n",
        "stacking_classifier= StackingClassifier(estimators=estimators,final_estimator=final_estimator)\n",
        "\n",
        "stacking_classifier.fit(X_train,y_train)"
      ]
    },
    {
      "cell_type": "code",
      "execution_count": null,
      "id": "23d6901d",
      "metadata": {
        "id": "23d6901d",
        "outputId": "d3579eda-d815-4500-d7df-facf1f3061dc"
      },
      "outputs": [
        {
          "name": "stdout",
          "output_type": "stream",
          "text": [
            "Training performance:\n",
            "    Accuracy    Recall  Precision        F1\n",
            "0  0.753649  0.878655   0.780299  0.826561\n",
            "Testing performance:\n",
            "    Accuracy    Recall  Precision        F1\n",
            "0  0.745907  0.866301   0.778404  0.820004\n"
          ]
        },
        {
          "data": {
            "image/png": "[encoded data removed]",
            "text/plain": [
              "<Figure size 432x288 with 2 Axes>"
            ]
          },
          "metadata": {
            "needs_background": "light"
          },
          "output_type": "display_data"
        }
      ],
      "source": [
        "#Calculating different metrics\n",
        "stacking_classifier_model_train_perf=model_performance_classification_sklearn(stacking_classifier,X_train,y_train)\n",
        "print(\"Training performance:\\n\",stacking_classifier_model_train_perf)\n",
        "stacking_classifier_model_test_perf=model_performance_classification_sklearn(stacking_classifier,X_test,y_test)\n",
        "print(\"Testing performance:\\n\",stacking_classifier_model_test_perf)\n",
        "\n",
        "#Creating confusion matrix\n",
        "confusion_matrix_sklearn(stacking_classifier,X_test,y_test)"
      ]
    },
    {
      "cell_type": "markdown",
      "id": "2e0401f5",
      "metadata": {
        "id": "2e0401f5"
      },
      "source": [
        "- The metrics are similar to what has been observed with other models post hyperparameter tuning. The model is not overfitting & gives generalized performance with training & testing F1 scores of 0.826 & 0.820\n",
        "- The model is able to identify the majority of cases that should be certified correctlly, but not as many cases that should be denied correctly"
      ]
    },
    {
      "cell_type": "markdown",
      "id": "80b60813",
      "metadata": {
        "id": "80b60813"
      },
      "source": [
        "### Comparing all models"
      ]
    },
    {
      "cell_type": "code",
      "execution_count": null,
      "id": "073d9259",
      "metadata": {
        "id": "073d9259",
        "outputId": "53f30629-3fc8-4089-b961-f767fdd78f77"
      },
      "outputs": [
        {
          "name": "stdout",
          "output_type": "stream",
          "text": [
            "Training performance comparison:\n"
          ]
        },
        {
          "data": {
            "text/html": [
              "<div>\n",
              "<style scoped>\n",
              "    .dataframe tbody tr th:only-of-type {\n",
              "        vertical-align: middle;\n",
              "    }\n",
              "\n",
              "    .dataframe tbody tr th {\n",
              "        vertical-align: top;\n",
              "    }\n",
              "\n",
              "    .dataframe thead th {\n",
              "        text-align: right;\n",
              "    }\n",
              "</style>\n",
              "<table border=\"1\" class=\"dataframe\">\n",
              "  <thead>\n",
              "    <tr style=\"text-align: right;\">\n",
              "      <th></th>\n",
              "      <th>Decision Tree</th>\n",
              "      <th>Decision Tree Tuned</th>\n",
              "      <th>Random Forest</th>\n",
              "      <th>Random Forest Tuned</th>\n",
              "      <th>Bagging Classifier</th>\n",
              "      <th>Bagging Estimator Tuned</th>\n",
              "      <th>Adaboost Classifier</th>\n",
              "      <th>Adabosst Classifier Tuned</th>\n",
              "      <th>Gradient Boost Classifier</th>\n",
              "      <th>Gradient Boost Classifier Tuned</th>\n",
              "      <th>XGBoost Classifier</th>\n",
              "      <th>XGBoost Classifier Tuned</th>\n",
              "      <th>Stacking Classifier</th>\n",
              "    </tr>\n",
              "  </thead>\n",
              "  <tbody>\n",
              "    <tr>\n",
              "      <th>Accuracy</th>\n",
              "      <td>1.0</td>\n",
              "      <td>0.711599</td>\n",
              "      <td>0.999832</td>\n",
              "      <td>0.745789</td>\n",
              "      <td>0.977824</td>\n",
              "      <td>0.956041</td>\n",
              "      <td>0.738322</td>\n",
              "      <td>0.749270</td>\n",
              "      <td>0.755839</td>\n",
              "      <td>0.754379</td>\n",
              "      <td>0.809903</td>\n",
              "      <td>0.753818</td>\n",
              "      <td>0.753649</td>\n",
              "    </tr>\n",
              "    <tr>\n",
              "      <th>Recall</th>\n",
              "      <td>1.0</td>\n",
              "      <td>0.932605</td>\n",
              "      <td>0.999916</td>\n",
              "      <td>0.779580</td>\n",
              "      <td>0.978655</td>\n",
              "      <td>0.993697</td>\n",
              "      <td>0.888151</td>\n",
              "      <td>0.870252</td>\n",
              "      <td>0.875882</td>\n",
              "      <td>0.876134</td>\n",
              "      <td>0.914706</td>\n",
              "      <td>0.898739</td>\n",
              "      <td>0.878655</td>\n",
              "    </tr>\n",
              "    <tr>\n",
              "      <th>Precision</th>\n",
              "      <td>1.0</td>\n",
              "      <td>0.719108</td>\n",
              "      <td>0.999832</td>\n",
              "      <td>0.829637</td>\n",
              "      <td>0.988038</td>\n",
              "      <td>0.943509</td>\n",
              "      <td>0.760414</td>\n",
              "      <td>0.779937</td>\n",
              "      <td>0.783979</td>\n",
              "      <td>0.782322</td>\n",
              "      <td>0.821138</td>\n",
              "      <td>0.770811</td>\n",
              "      <td>0.780299</td>\n",
              "    </tr>\n",
              "    <tr>\n",
              "      <th>F1</th>\n",
              "      <td>1.0</td>\n",
              "      <td>0.812059</td>\n",
              "      <td>0.999874</td>\n",
              "      <td>0.803830</td>\n",
              "      <td>0.983324</td>\n",
              "      <td>0.967953</td>\n",
              "      <td>0.819334</td>\n",
              "      <td>0.822623</td>\n",
              "      <td>0.827386</td>\n",
              "      <td>0.826575</td>\n",
              "      <td>0.865400</td>\n",
              "      <td>0.829874</td>\n",
              "      <td>0.826561</td>\n",
              "    </tr>\n",
              "  </tbody>\n",
              "</table>\n",
              "</div>"
            ],
            "text/plain": [
              "           Decision Tree  Decision Tree Tuned  Random Forest  \\\n",
              "Accuracy             1.0             0.711599       0.999832   \n",
              "Recall               1.0             0.932605       0.999916   \n",
              "Precision            1.0             0.719108       0.999832   \n",
              "F1                   1.0             0.812059       0.999874   \n",
              "\n",
              "           Random Forest Tuned  Bagging Classifier  Bagging Estimator Tuned  \\\n",
              "Accuracy              0.745789            0.977824                 0.956041   \n",
              "Recall                0.779580            0.978655                 0.993697   \n",
              "Precision             0.829637            0.988038                 0.943509   \n",
              "F1                    0.803830            0.983324                 0.967953   \n",
              "\n",
              "           Adaboost Classifier  Adabosst Classifier Tuned  \\\n",
              "Accuracy              0.738322                   0.749270   \n",
              "Recall                0.888151                   0.870252   \n",
              "Precision             0.760414                   0.779937   \n",
              "F1                    0.819334                   0.822623   \n",
              "\n",
              "           Gradient Boost Classifier  Gradient Boost Classifier Tuned  \\\n",
              "Accuracy                    0.755839                         0.754379   \n",
              "Recall                      0.875882                         0.876134   \n",
              "Precision                   0.783979                         0.782322   \n",
              "F1                          0.827386                         0.826575   \n",
              "\n",
              "           XGBoost Classifier  XGBoost Classifier Tuned  Stacking Classifier  \n",
              "Accuracy             0.809903                  0.753818             0.753649  \n",
              "Recall               0.914706                  0.898739             0.878655  \n",
              "Precision            0.821138                  0.770811             0.780299  \n",
              "F1                   0.865400                  0.829874             0.826561  "
            ]
          },
          "execution_count": 83,
          "metadata": {},
          "output_type": "execute_result"
        }
      ],
      "source": [
        "# training performance comparison\n",
        "\n",
        "models_train_comp_df = pd.concat(\n",
        "    [d_tree_model_train_perf.T,dtree_estimator_model_train_perf.T,rf_estimator_model_train_perf.T,rf_tuned_model_train_perf.T,\n",
        "     bagging_classifier_model_train_perf.T,bagging_estimator_tuned_model_train_perf.T,ab_classifier_model_train_perf.T,\n",
        "     abc_tuned_model_train_perf.T,gb_classifier_model_train_perf.T,gbc_tuned_model_train_perf.T,xgb_classifier_model_train_perf.T,\n",
        "    xgb_tuned_model_train_perf.T,stacking_classifier_model_train_perf.T],\n",
        "    axis=1,\n",
        ")\n",
        "models_train_comp_df.columns = [\n",
        "    \"Decision Tree\",\n",
        "    \"Decision Tree Tuned\",\n",
        "    \"Random Forest\",\n",
        "    \"Random Forest Tuned\",\n",
        "    \"Bagging Classifier\",\n",
        "    \"Bagging Estimator Tuned\",\n",
        "    \"Adaboost Classifier\",\n",
        "    \"Adabosst Classifier Tuned\",\n",
        "    \"Gradient Boost Classifier\",\n",
        "    \"Gradient Boost Classifier Tuned\",\n",
        "    \"XGBoost Classifier\",\n",
        "    \"XGBoost Classifier Tuned\",\n",
        "    \"Stacking Classifier\"]\n",
        "print(\"Training performance comparison:\")\n",
        "models_train_comp_df"
      ]
    },
    {
      "cell_type": "code",
      "execution_count": null,
      "id": "24a2bb02",
      "metadata": {
        "id": "24a2bb02",
        "outputId": "237ae152-a297-4a55-ba35-964ec197b46e"
      },
      "outputs": [
        {
          "name": "stdout",
          "output_type": "stream",
          "text": [
            "Testing performance comparison:\n"
          ]
        },
        {
          "data": {
            "text/html": [
              "<div>\n",
              "<style scoped>\n",
              "    .dataframe tbody tr th:only-of-type {\n",
              "        vertical-align: middle;\n",
              "    }\n",
              "\n",
              "    .dataframe tbody tr th {\n",
              "        vertical-align: top;\n",
              "    }\n",
              "\n",
              "    .dataframe thead th {\n",
              "        text-align: right;\n",
              "    }\n",
              "</style>\n",
              "<table border=\"1\" class=\"dataframe\">\n",
              "  <thead>\n",
              "    <tr style=\"text-align: right;\">\n",
              "      <th></th>\n",
              "      <th>Decision Tree</th>\n",
              "      <th>Decision Tree Tuned</th>\n",
              "      <th>Random Forest</th>\n",
              "      <th>Random Forest Tuned</th>\n",
              "      <th>Bagging Classifier</th>\n",
              "      <th>Bagging Estimator Tuned</th>\n",
              "      <th>Adaboost Classifier</th>\n",
              "      <th>Adabosst Classifier Tuned</th>\n",
              "      <th>Gradient Boost Classifier</th>\n",
              "      <th>Gradient Boost Classifier Tuned</th>\n",
              "      <th>XGBoost Classifier</th>\n",
              "      <th>XGBoost Classifier Tuned</th>\n",
              "      <th>Stacking Classifier</th>\n",
              "    </tr>\n",
              "  </thead>\n",
              "  <tbody>\n",
              "    <tr>\n",
              "      <th>Accuracy</th>\n",
              "      <td>0.661559</td>\n",
              "      <td>0.709103</td>\n",
              "      <td>0.676621</td>\n",
              "      <td>0.724951</td>\n",
              "      <td>0.688016</td>\n",
              "      <td>0.728225</td>\n",
              "      <td>0.735560</td>\n",
              "      <td>0.745514</td>\n",
              "      <td>0.748527</td>\n",
              "      <td>0.746431</td>\n",
              "      <td>0.737525</td>\n",
              "      <td>0.746955</td>\n",
              "      <td>0.745907</td>\n",
              "    </tr>\n",
              "    <tr>\n",
              "      <th>Recall</th>\n",
              "      <td>0.743384</td>\n",
              "      <td>0.929034</td>\n",
              "      <td>0.760047</td>\n",
              "      <td>0.761419</td>\n",
              "      <td>0.757106</td>\n",
              "      <td>0.877475</td>\n",
              "      <td>0.877671</td>\n",
              "      <td>0.861596</td>\n",
              "      <td>0.865517</td>\n",
              "      <td>0.865321</td>\n",
              "      <td>0.858851</td>\n",
              "      <td>0.887473</td>\n",
              "      <td>0.866301</td>\n",
              "    </tr>\n",
              "    <tr>\n",
              "      <th>Precision</th>\n",
              "      <td>0.748372</td>\n",
              "      <td>0.718248</td>\n",
              "      <td>0.756931</td>\n",
              "      <td>0.814768</td>\n",
              "      <td>0.771628</td>\n",
              "      <td>0.755316</td>\n",
              "      <td>0.762432</td>\n",
              "      <td>0.780362</td>\n",
              "      <td>0.781554</td>\n",
              "      <td>0.779446</td>\n",
              "      <td>0.773345</td>\n",
              "      <td>0.769244</td>\n",
              "      <td>0.778404</td>\n",
              "    </tr>\n",
              "    <tr>\n",
              "      <th>F1</th>\n",
              "      <td>0.745869</td>\n",
              "      <td>0.810155</td>\n",
              "      <td>0.758486</td>\n",
              "      <td>0.787191</td>\n",
              "      <td>0.764298</td>\n",
              "      <td>0.811826</td>\n",
              "      <td>0.816003</td>\n",
              "      <td>0.818970</td>\n",
              "      <td>0.821395</td>\n",
              "      <td>0.820141</td>\n",
              "      <td>0.813858</td>\n",
              "      <td>0.824140</td>\n",
              "      <td>0.820004</td>\n",
              "    </tr>\n",
              "  </tbody>\n",
              "</table>\n",
              "</div>"
            ],
            "text/plain": [
              "           Decision Tree  Decision Tree Tuned  Random Forest  \\\n",
              "Accuracy        0.661559             0.709103       0.676621   \n",
              "Recall          0.743384             0.929034       0.760047   \n",
              "Precision       0.748372             0.718248       0.756931   \n",
              "F1              0.745869             0.810155       0.758486   \n",
              "\n",
              "           Random Forest Tuned  Bagging Classifier  Bagging Estimator Tuned  \\\n",
              "Accuracy              0.724951            0.688016                 0.728225   \n",
              "Recall                0.761419            0.757106                 0.877475   \n",
              "Precision             0.814768            0.771628                 0.755316   \n",
              "F1                    0.787191            0.764298                 0.811826   \n",
              "\n",
              "           Adaboost Classifier  Adabosst Classifier Tuned  \\\n",
              "Accuracy              0.735560                   0.745514   \n",
              "Recall                0.877671                   0.861596   \n",
              "Precision             0.762432                   0.780362   \n",
              "F1                    0.816003                   0.818970   \n",
              "\n",
              "           Gradient Boost Classifier  Gradient Boost Classifier Tuned  \\\n",
              "Accuracy                    0.748527                         0.746431   \n",
              "Recall                      0.865517                         0.865321   \n",
              "Precision                   0.781554                         0.779446   \n",
              "F1                          0.821395                         0.820141   \n",
              "\n",
              "           XGBoost Classifier  XGBoost Classifier Tuned  Stacking Classifier  \n",
              "Accuracy             0.737525                  0.746955             0.745907  \n",
              "Recall               0.858851                  0.887473             0.866301  \n",
              "Precision            0.773345                  0.769244             0.778404  \n",
              "F1                   0.813858                  0.824140             0.820004  "
            ]
          },
          "execution_count": 84,
          "metadata": {},
          "output_type": "execute_result"
        }
      ],
      "source": [
        "# testing performance comparison\n",
        "\n",
        "models_test_comp_df = pd.concat(\n",
        "    [d_tree_model_test_perf.T,dtree_estimator_model_test_perf.T,rf_estimator_model_test_perf.T,rf_tuned_model_test_perf.T,\n",
        "     bagging_classifier_model_test_perf.T,bagging_estimator_tuned_model_test_perf.T,ab_classifier_model_test_perf.T,\n",
        "     abc_tuned_model_test_perf.T,gb_classifier_model_test_perf.T,gbc_tuned_model_test_perf.T,xgb_classifier_model_test_perf.T,\n",
        "    xgb_tuned_model_test_perf.T,stacking_classifier_model_test_perf.T],\n",
        "    axis=1,\n",
        ")\n",
        "models_test_comp_df.columns = [\n",
        "    \"Decision Tree\",\n",
        "    \"Decision Tree Tuned\",\n",
        "    \"Random Forest\",\n",
        "    \"Random Forest Tuned\",\n",
        "    \"Bagging Classifier\",\n",
        "    \"Bagging Estimator Tuned\",\n",
        "    \"Adaboost Classifier\",\n",
        "    \"Adabosst Classifier Tuned\",\n",
        "    \"Gradient Boost Classifier\",\n",
        "    \"Gradient Boost Classifier Tuned\",\n",
        "    \"XGBoost Classifier\",\n",
        "    \"XGBoost Classifier Tuned\",\n",
        "    \"Stacking Classifier\"]\n",
        "print(\"Testing performance comparison:\")\n",
        "models_test_comp_df"
      ]
    },
    {
      "cell_type": "markdown",
      "id": "76cd059a",
      "metadata": {
        "id": "76cd059a"
      },
      "source": [
        "- Decision tree, Random forest (default & tuned), Bagging classifier (default & tuned) & XGBoost were found to overfit the training dataset\n",
        "- Decision tree tuned, Adaboost (default & tuned), Gradient boost (default & tuned) and XGBoost (tuned) were found to give generalized performance on the training & testing data sets. Of these, the XGBoost (tuned)  has the highest F1 score (although all models have more or less similar performance)"
      ]
    },
    {
      "cell_type": "markdown",
      "id": "fb68158e",
      "metadata": {
        "id": "fb68158e"
      },
      "source": [
        "### Feature importance of XGBoost Hyperparameter Tuned Model"
      ]
    },
    {
      "cell_type": "code",
      "execution_count": null,
      "id": "0f50575a",
      "metadata": {
        "id": "0f50575a",
        "outputId": "c28da6bf-6715-49f5-ce57-db58d502ccf8"
      },
      "outputs": [
        {
          "data": {
            "image/png": "[encoded data removed]",
            "text/plain": [
              "<Figure size 864x864 with 1 Axes>"
            ]
          },
          "metadata": {
            "needs_background": "light"
          },
          "output_type": "display_data"
        }
      ],
      "source": [
        "feature_names = X_train.columns\n",
        "importances = xgb_tuned.feature_importances_\n",
        "indices = np.argsort(importances)\n",
        "\n",
        "plt.figure(figsize=(12,12))\n",
        "plt.title('Feature Importances')\n",
        "plt.barh(range(len(indices)), importances[indices], color='violet', align='center')\n",
        "plt.yticks(range(len(indices)), [feature_names[i] for i in indices])\n",
        "plt.xlabel('Relative Importance')\n",
        "plt.show()"
      ]
    },
    {
      "cell_type": "markdown",
      "id": "8a1050f5",
      "metadata": {
        "id": "8a1050f5"
      },
      "source": [
        "- The findings from the optimized model is similar to what was observed post EDA\n",
        "- Education of the employee was found to be the most important attribute having an influence on visa certifications. Other important attributes found were - if an employee has prior job experience, unit_of_wage, continent of the employee, & region of employment in the US"
      ]
    },
    {
      "cell_type": "markdown",
      "id": "nasty-retailer",
      "metadata": {
        "id": "nasty-retailer"
      },
      "source": [
        "## Actionable Insights and Recommendations"
      ]
    },
    {
      "cell_type": "markdown",
      "id": "a08a7b37",
      "metadata": {
        "id": "a08a7b37"
      },
      "source": [
        "- Based on the EDA and the XGBoost(tuned) model, the following features were identified as important for visas getting certified than denied\n",
        "     - (1) Education of employee ; an employee with only a high school certififcation has over 65% chance of visa getting denied in comparison to an employee with a doctorate degree with over a 85% chance of visa getting certified\n",
        "     - (2) Unit of wage ; an employee with an hourly pay likewise has over 65% chance of visa getting denied in comparison to an employee with a non-hourly pay (week-ly, month-ly or year-ly) with over 70% chance of visa getting certified\n",
        "     - (3) The continent the employee is from (e.g., if Europe, over 80% chance of visa getting certified), if the employee has prior job experience (over 75% chance of visa getting approved if an employee has prior work experience but 50% chance of visa getting denied if an employee has no work experience) are other important attributes\n",
        "     - (4) Likewise, the region of the US the employment opportunity is in is also an important deciding factor with over 70% cases getting certified if the region is Midwest or South\n",
        "     \n",
        "     \n",
        "- Interestingly, attributes like if the job opportunity is full time/ part time ; if an employee requires further job training ; the annual prevailing wage of the occupation in the US ; year of establishment of the employer or the number of employees in the organization are not important attributes & do not have much bearing on a case getting certified vs denied\n",
        "\n",
        "\n",
        "- The XGBoost hyperparameter tuned ML model is able to give generalized prediction on training & testing datasets (not prone to overfitting) and is able to explain over 80% of information (accuracy of 75% on test dataset & F1 score of 82% on test dataset).\n",
        "     - The precision & recall are likewise both high (77% & 88% respectively)\n",
        "     - The confusion matrix is able to identify a higher % of cases getting certified, but only a smaller % of cases getting denied correctly. This limitation has to be borne in mind, and perhaps a reevaluation of cases getting denied can be carried out in case there is a a prevailing human resource shortage in the US. The model is still helpful, as only a small subset of data will need further re evaluation significantly decreases time spent in the process"
      ]
    }
  ],
  "metadata": {
    "colab": {
      "provenance": []
    },
    "kernelspec": {
      "display_name": "Python 3",
      "language": "python",
      "name": "python3"
    },
    "language_info": {
      "codemirror_mode": {
        "name": "ipython",
        "version": 3
      },
      "file_extension": ".py",
      "mimetype": "text/x-python",
      "name": "python",
      "nbconvert_exporter": "python",
      "pygments_lexer": "ipython3",
      "version": "3.8.8"
    }
  },
  "nbformat": 4,
  "nbformat_minor": 5
}